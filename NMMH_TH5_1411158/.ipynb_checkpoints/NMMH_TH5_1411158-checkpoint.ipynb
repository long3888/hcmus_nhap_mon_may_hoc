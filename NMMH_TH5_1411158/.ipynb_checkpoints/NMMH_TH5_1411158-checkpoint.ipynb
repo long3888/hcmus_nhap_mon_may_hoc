{
 "cells": [
  {
   "cell_type": "markdown",
   "id": "2dbe5a9e",
   "metadata": {},
   "source": [
    "# Bài tập\n",
    "1. Hãy dùng thuật toán K-mean để chọn ra số cụm thích hợp (như trong slide bài giảng) dựa trên tập training, và dự đoán label của các quan sát trên tập testing của bộ dữ liệu bên dưới.\n",
    "2. Vẽ hình các cụm trên tập testing."
   ]
  },
  {
   "cell_type": "code",
   "execution_count": 1,
   "id": "7cd7e6c1",
   "metadata": {},
   "outputs": [],
   "source": [
    "# Import libraries\n",
    "import pandas as pd\n",
    "import numpy as np"
   ]
  },
  {
   "cell_type": "code",
   "execution_count": 2,
   "id": "94758572",
   "metadata": {},
   "outputs": [
    {
     "data": {
      "text/html": [
       "<div>\n",
       "<style scoped>\n",
       "    .dataframe tbody tr th:only-of-type {\n",
       "        vertical-align: middle;\n",
       "    }\n",
       "\n",
       "    .dataframe tbody tr th {\n",
       "        vertical-align: top;\n",
       "    }\n",
       "\n",
       "    .dataframe thead th {\n",
       "        text-align: right;\n",
       "    }\n",
       "</style>\n",
       "<table border=\"1\" class=\"dataframe\">\n",
       "  <thead>\n",
       "    <tr style=\"text-align: right;\">\n",
       "      <th></th>\n",
       "      <th>CustomerID</th>\n",
       "      <th>Genre</th>\n",
       "      <th>Age</th>\n",
       "      <th>Annual Income (k$)</th>\n",
       "      <th>Spending Score (1-100)</th>\n",
       "    </tr>\n",
       "  </thead>\n",
       "  <tbody>\n",
       "    <tr>\n",
       "      <th>0</th>\n",
       "      <td>1</td>\n",
       "      <td>Male</td>\n",
       "      <td>19</td>\n",
       "      <td>15</td>\n",
       "      <td>39</td>\n",
       "    </tr>\n",
       "    <tr>\n",
       "      <th>1</th>\n",
       "      <td>2</td>\n",
       "      <td>Male</td>\n",
       "      <td>21</td>\n",
       "      <td>15</td>\n",
       "      <td>81</td>\n",
       "    </tr>\n",
       "    <tr>\n",
       "      <th>2</th>\n",
       "      <td>3</td>\n",
       "      <td>Female</td>\n",
       "      <td>20</td>\n",
       "      <td>16</td>\n",
       "      <td>6</td>\n",
       "    </tr>\n",
       "    <tr>\n",
       "      <th>3</th>\n",
       "      <td>4</td>\n",
       "      <td>Female</td>\n",
       "      <td>23</td>\n",
       "      <td>16</td>\n",
       "      <td>77</td>\n",
       "    </tr>\n",
       "    <tr>\n",
       "      <th>4</th>\n",
       "      <td>5</td>\n",
       "      <td>Female</td>\n",
       "      <td>31</td>\n",
       "      <td>17</td>\n",
       "      <td>40</td>\n",
       "    </tr>\n",
       "  </tbody>\n",
       "</table>\n",
       "</div>"
      ],
      "text/plain": [
       "   CustomerID   Genre  Age  Annual Income (k$)  Spending Score (1-100)\n",
       "0           1    Male   19                  15                      39\n",
       "1           2    Male   21                  15                      81\n",
       "2           3  Female   20                  16                       6\n",
       "3           4  Female   23                  16                      77\n",
       "4           5  Female   31                  17                      40"
      ]
     },
     "execution_count": 2,
     "metadata": {},
     "output_type": "execute_result"
    }
   ],
   "source": [
    "# Load data\n",
    "data = pd.read_csv('data.csv')\n",
    "data.head()"
   ]
  },
  {
   "cell_type": "code",
   "execution_count": 3,
   "id": "21e7706b",
   "metadata": {},
   "outputs": [],
   "source": [
    "from sklearn.model_selection import train_test_split\n",
    "\n",
    "# Split data\n",
    "X = data.iloc[:, [2, 3]].values\n",
    "np.random.seed(42)\n",
    "X_train, X_test = train_test_split(X, test_size=0.33, random_state=42)"
   ]
  },
  {
   "cell_type": "markdown",
   "id": "376d5ce4",
   "metadata": {},
   "source": [
    "## Câu 1"
   ]
  },
  {
   "cell_type": "code",
   "execution_count": 4,
   "id": "11d504ea",
   "metadata": {
    "scrolled": true
   },
   "outputs": [
    {
     "data": {
      "image/png": "[encoded data removed]",
      "text/plain": [
       "<Figure size 432x288 with 1 Axes>"
      ]
     },
     "metadata": {
      "needs_background": "light"
     },
     "output_type": "display_data"
    }
   ],
   "source": [
    "import math\n",
    "from sklearn.cluster import KMeans\n",
    "import matplotlib.pyplot as plt\n",
    "import warnings\n",
    "\n",
    "warnings.filterwarnings(\"ignore\")\n",
    "\n",
    "\n",
    "def distance(p1, p2):\n",
    "    return math.sqrt((p1[0] - p2[0]) ** 2 + (p1[1] - p2[1]) ** 2)\n",
    "\n",
    "\n",
    "x = []\n",
    "y = []\n",
    "k = 10\n",
    "for i in range(k):\n",
    "    kmeans = KMeans(n_clusters=i + 1).fit(X_train)\n",
    "    labels = kmeans.labels_\n",
    "    clusters = kmeans.cluster_centers_\n",
    "    error = 0\n",
    "    for j in range(len(X_train)):\n",
    "        error += distance(X_train[j], clusters[labels[j]])\n",
    "    x.append(i + 1)\n",
    "    y.append(int(error))\n",
    "plt.plot(x, y);"
   ]
  },
  {
   "cell_type": "markdown",
   "id": "247b4e46",
   "metadata": {},
   "source": [
    "### Từ hình trên, ta chọn k = 4"
   ]
  },
  {
   "cell_type": "code",
   "execution_count": 5,
   "id": "a00e6a01",
   "metadata": {},
   "outputs": [],
   "source": [
    "# Choose k\n",
    "k = 4\n",
    "kmeans = KMeans(n_clusters=k).fit(X_train)"
   ]
  },
  {
   "cell_type": "code",
   "execution_count": 6,
   "id": "88f72d0e",
   "metadata": {},
   "outputs": [
    {
     "name": "stdout",
     "output_type": "stream",
     "text": [
      "1\n"
     ]
    }
   ],
   "source": [
    "from scipy.spatial.distance import cdist\n",
    "\n",
    "# Khởi tạo các centroids\n",
    "init_centroids = X_train[np.random.choice(X_train.shape[0], k, replace=False)]\n",
    "init_centroids\n",
    "cdist(X_train, init_centroids, 'euclidean')\n",
    "np.argmin(cdist(X_train, init_centroids, 'euclidean'), axis=1)\n",
    "\n",
    "\n",
    "# gán label sau mỗi vòng lặp\n",
    "def assign_label(X, centers):\n",
    "    D = cdist(X, centers, 'euclidean')  # thư viện để tính khoảng cách euclidean\n",
    "    return np.argmin(D, axis=1)\n",
    "\n",
    "\n",
    "# gán các centroids sau mỗi vòng lặp\n",
    "def update_centroids(X, label, K):\n",
    "    center = np.zeros([K, X.shape[1]])\n",
    "    for i in range(K):\n",
    "        X_ = X[label == i, :]\n",
    "        center[i, :] = np.mean(X_, axis=0)\n",
    "    return center\n",
    "\n",
    "\n",
    "# Check xem đã hội tụ chưa\n",
    "def has_converged(new_label, old_label):\n",
    "    return (new_label == old_label).all()\n",
    "\n",
    "\n",
    "centroids = init_centroids\n",
    "it = 0\n",
    "while True:\n",
    "    it += 1\n",
    "    # đánh label\n",
    "    labels = assign_label(X_train, centroids)\n",
    "    # lưu các centroids cũ\n",
    "    old_centers = centroids.copy()\n",
    "    centers = update_centroids(X_train, labels, k)\n",
    "    print(it)\n",
    "    if has_converged(centroids, old_centers):\n",
    "        break"
   ]
  },
  {
   "cell_type": "code",
   "execution_count": 7,
   "id": "66508bff",
   "metadata": {},
   "outputs": [
    {
     "data": {
      "image/png": "[encoded data removed]",
      "text/plain": [
       "<Figure size 432x288 with 1 Axes>"
      ]
     },
     "metadata": {
      "needs_background": "light"
     },
     "output_type": "display_data"
    },
    {
     "data": {
      "image/png": "[encoded data removed]",
      "text/plain": [
       "<Figure size 432x288 with 1 Axes>"
      ]
     },
     "metadata": {
      "needs_background": "light"
     },
     "output_type": "display_data"
    }
   ],
   "source": [
    "# Vẽ hình thử\n",
    "def kmeans_display(X, label):\n",
    "    K = np.amax(label) + 1\n",
    "    X0 = X[label == 0, :]\n",
    "    X1 = X[label == 1, :]\n",
    "    X2 = X[label == 2, :]\n",
    "    X3 = X[label == 3, :]\n",
    "    plt.plot(X0[:, 0], X0[:, 1], 'bo', markersize=4, alpha=.8)\n",
    "    plt.plot(X1[:, 0], X1[:, 1], 'go', markersize=4, alpha=.8)\n",
    "    plt.plot(X2[:, 0], X2[:, 1], 'ro', markersize=4, alpha=.8)\n",
    "    plt.plot(X3[:, 0], X3[:, 1], 'yo', markersize=4, alpha=.8)\n",
    "    plt.axis('equal')\n",
    "    plt.plot()\n",
    "    plt.show()\n",
    "\n",
    "\n",
    "kmeans_display(X_train, labels)\n",
    "kmeans_display(X_train, kmeans.labels_)"
   ]
  },
  {
   "cell_type": "code",
   "execution_count": 8,
   "id": "469d86af",
   "metadata": {
    "scrolled": true
   },
   "outputs": [
    {
     "name": "stdout",
     "output_type": "stream",
     "text": [
      "1\n"
     ]
    }
   ],
   "source": [
    "# Dự đoán labels tập test\n",
    "it = 0\n",
    "while True:\n",
    "    it += 1\n",
    "    # đánh label\n",
    "    labels = assign_label(X_test, centroids)\n",
    "    # lưu các centroids cũ\n",
    "    old_centers = centroids.copy()\n",
    "    centers = update_centroids(X_test, labels, k)\n",
    "    print(it)\n",
    "    if has_converged(centroids, old_centers):\n",
    "        break"
   ]
  },
  {
   "cell_type": "markdown",
   "id": "4fafde00",
   "metadata": {},
   "source": [
    "## Câu 2"
   ]
  },
  {
   "cell_type": "code",
   "execution_count": 9,
   "id": "f6e2e2bf",
   "metadata": {},
   "outputs": [
    {
     "data": {
      "image/png": "[encoded data removed]",
      "text/plain": [
       "<Figure size 432x288 with 1 Axes>"
      ]
     },
     "metadata": {
      "needs_background": "light"
     },
     "output_type": "display_data"
    },
    {
     "data": {
      "image/png": "[encoded data removed]",
      "text/plain": [
       "<Figure size 432x288 with 1 Axes>"
      ]
     },
     "metadata": {
      "needs_background": "light"
     },
     "output_type": "display_data"
    }
   ],
   "source": [
    "# Vẽ hình thử\n",
    "kmeans_display(X_test, labels)\n",
    "kmeans_display(X_test, kmeans.predict(X_test))"
   ]
  },
  {
   "cell_type": "code",
   "execution_count": null,
   "id": "6b71226b",
   "metadata": {},
   "outputs": [],
   "source": []
  }
 ],
 "metadata": {
  "kernelspec": {
   "display_name": "Python 3",
   "language": "python",
   "name": "python3"
  },
  "language_info": {
   "codemirror_mode": {
    "name": "ipython",
    "version": 3
   },
   "file_extension": ".py",
   "mimetype": "text/x-python",
   "name": "python",
   "nbconvert_exporter": "python",
   "pygments_lexer": "ipython3",
   "version": "3.8.8"
  }
 },
 "nbformat": 4,
 "nbformat_minor": 5
}
