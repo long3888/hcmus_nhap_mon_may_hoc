{
 "cells": [
  {
   "cell_type": "code",
   "execution_count": 1,
   "id": "6559c1ca",
   "metadata": {},
   "outputs": [],
   "source": [
    "# Import libraries\n",
    "import tensorflow as tf\n",
    "import keras\n",
    "import numpy as np\n",
    "import matplotlib.pyplot as plt"
   ]
  },
  {
   "cell_type": "code",
   "execution_count": 2,
   "id": "b0f3acc4",
   "metadata": {},
   "outputs": [
    {
     "name": "stdout",
     "output_type": "stream",
     "text": [
      "Kích thước input: (None, 28, 28), None tượng trưng cho số lượng ảnh một batch không xác định trước\n",
      "Kích thước sau reshape: (None, 28, 28, 1)\n",
      "Kích thước flatten: (None, 784)\n"
     ]
    }
   ],
   "source": [
    "# Tạo layer input, mỗi data point có kích thước (28,28)\n",
    "inputs = keras.layers.Input(shape=(28, 28))\n",
    "print(\"Kích thước input: {}, None tượng trưng cho số lượng ảnh một batch không xác định trước\".format(inputs.shape))\n",
    "# Reshape input\n",
    "## Do input vào lớp convolutional layer cần có 4 chiều, chiều cuối là số kênh, ảnh MNIST là ảnh xám nên chỉ có một kênh\n",
    "inputs_reshape = keras.layers.Reshape((28, 28, 1))(inputs)\n",
    "print(\"Kích thước sau reshape: {}\".format(inputs_reshape.shape))\n",
    "# Flatten lớp conv trước khi cho vào lớp dense, vì lớp dense yêu cầu input chỉ là vector\n",
    "flatten = keras.layers.Flatten()(inputs_reshape)\n",
    "print(\"Kích thước flatten: {}\".format(flatten.shape))"
   ]
  },
  {
   "cell_type": "code",
   "execution_count": 3,
   "id": "42de6ff1",
   "metadata": {},
   "outputs": [
    {
     "name": "stdout",
     "output_type": "stream",
     "text": [
      "Kích thước input: (None, 28, 28), None tượng trưng cho số lượng ảnh một batch không xác định trước\n",
      "Kích thước sau reshape: (None, 28, 28, 1)\n",
      "Kích thước flatten: (None, 784)\n",
      "Kích thước fc1: (None, 784)\n",
      "Kích thước fc2: (None, 784)\n",
      "Kích thước fc3: (None, 200)\n",
      "Kích thước fc4: (None, 100)\n",
      "Kích thước fc5: (None, 50)\n",
      "Kích thước fc6: (None, 20)\n",
      "Cấu trúc của model: \n",
      "Model: \"functional_1\"\n",
      "_________________________________________________________________\n",
      "Layer (type)                 Output Shape              Param #   \n",
      "=================================================================\n",
      "input_2 (InputLayer)         [(None, 28, 28)]          0         \n",
      "_________________________________________________________________\n",
      "reshape_1 (Reshape)          (None, 28, 28, 1)         0         \n",
      "_________________________________________________________________\n",
      "flatten_1 (Flatten)          (None, 784)               0         \n",
      "_________________________________________________________________\n",
      "dense_2 (Dense)              (None, 200)               157000    \n",
      "_________________________________________________________________\n",
      "dense_3 (Dense)              (None, 100)               20100     \n",
      "_________________________________________________________________\n",
      "dense_4 (Dense)              (None, 50)                5050      \n",
      "_________________________________________________________________\n",
      "dense_5 (Dense)              (None, 20)                1020      \n",
      "_________________________________________________________________\n",
      "dense_6 (Dense)              (None, 10)                210       \n",
      "=================================================================\n",
      "Total params: 183,380\n",
      "Trainable params: 183,380\n",
      "Non-trainable params: 0\n",
      "_________________________________________________________________\n"
     ]
    }
   ],
   "source": [
    "# Tạo layer input, mỗi data point có kích thước (28,28)\n",
    "inputs = keras.layers.Input(shape=(28, 28))\n",
    "print(\"Kích thước input: {}, None tượng trưng cho số lượng ảnh một batch không xác định trước\".format(inputs.shape))\n",
    "# Reshape input\n",
    "## Do input vào lớp convolutional layer cần có 4 chiều, chiều cuối là số kênh, ảnh MNIST là ảnh xám nên chỉ có một kênh\n",
    "inputs_reshape = keras.layers.Reshape((28, 28, 1))(inputs)\n",
    "print(\"Kích thước sau reshape: {}\".format(inputs_reshape.shape))\n",
    "# Flatten lớp conv trước khi cho vào lớp dense, vì lớp dense yêu cầu input chỉ là vector\n",
    "flatten = keras.layers.Flatten()(inputs_reshape)\n",
    "print(\"Kích thước flatten: {}\".format(flatten.shape))\n",
    "dense1 = keras.layers.Dense(units=784, activation=\"relu\")(flatten)\n",
    "print(\"Kích thước fc1: {}\".format(dense1.shape))\n",
    "dense2 = keras.layers.Dense(units=200, activation=\"relu\")(flatten)\n",
    "print(\"Kích thước fc2: {}\".format(dense2.shape))\n",
    "dense3 = keras.layers.Dense(units=200, activation=\"relu\")(flatten)\n",
    "print(\"Kích thước fc3: {}\".format(dense3.shape))\n",
    "dense4 = keras.layers.Dense(units=100, activation=\"relu\")(dense3)\n",
    "print(\"Kích thước fc4: {}\".format(dense4.shape))\n",
    "dense5 = keras.layers.Dense(units=50, activation=\"relu\")(dense4)\n",
    "print(\"Kích thước fc5: {}\".format(dense5.shape))\n",
    "dense6 = keras.layers.Dense(units=20, activation=\"relu\")(dense5)\n",
    "print(\"Kích thước fc6: {}\".format(dense6.shape))\n",
    "# Lớp fully conntected với hàm kích hoạt softmax, units là số node\n",
    "## Lưu ý vì đây là lớp để classify nên hàm kích hoạt bắt buộc phải là softmax\n",
    "softmax = keras.layers.Dense(units=10, activation='softmax')(dense6)\n",
    "# Tạo model, với input là lớp inputs, outputs là lớp softmax\n",
    "model = keras.models.Model(inputs=inputs, outputs=softmax)\n",
    "# Compile model \n",
    "## optimizer là thuật toán tối ưu ở đây dùng adam\n",
    "## loss function là hàm mất mát ở đây dùng sparse_categorical_crossentropy\n",
    "## metrics: để theo dõi các đánh giá trong quá trình huấn luyện. Đối với tập MNIST chúng ta dùng accuracy trên top1\n",
    "model.compile(optimizer='adam', loss=tf.keras.losses.sparse_categorical_crossentropy, metrics=[\"accuracy\"])\n",
    "# In toàn bộ cấu trúc của model\n",
    "print(\"Cấu trúc của model: \")\n",
    "model.summary()"
   ]
  },
  {
   "cell_type": "code",
   "execution_count": 4,
   "id": "30d0be3f",
   "metadata": {},
   "outputs": [
    {
     "name": "stdout",
     "output_type": "stream",
     "text": [
      "Kích thước input: (None, 28, 28), None tượng trưng cho số lượng ảnh một batch không xác định trước\n",
      "Kích thước sau reshape: (None, 28, 28, 1)\n",
      "Kích thước flatten: (None, 784)\n"
     ]
    }
   ],
   "source": [
    "# Tạo layer input, mỗi data point có kích thước (28,28)\n",
    "inputs = keras.layers.Input(shape=(28, 28))\n",
    "print(\"Kích thước input: {}, None tượng trưng cho số lượng ảnh một batch không xác định trước\".format(inputs.shape))\n",
    "# Reshape input\n",
    "## Do input vào lớp convolutional layer cần có 4 chiều, chiều cuối là số kênh, ảnh mnist là ảnh xám nên chỉ có một kênh\n",
    "inputs_reshape = keras.layers.Reshape((28, 28, 1))(inputs)\n",
    "print(\"Kích thước sau reshape: {}\".format(inputs_reshape.shape))\n",
    "# Flatten lớp conv trước khi cho vào lớp dense, vì lớp dense yêu cầu input chỉ là vector\n",
    "flatten = keras.layers.Flatten()(inputs_reshape)\n",
    "print(\"Kích thước flatten: {}\".format(flatten.shape))"
   ]
  },
  {
   "cell_type": "code",
   "execution_count": 5,
   "id": "c5b4354f",
   "metadata": {},
   "outputs": [
    {
     "name": "stdout",
     "output_type": "stream",
     "text": [
      "Kích thước input: (None, 28, 28), None tượng trưng cho số lượng ảnh một batch không xác định trước\n",
      "Kích thước sau reshape: (None, 28, 28, 1)\n",
      "Kích thước conv: (None, 28, 28, 20), chiều cuối cùng chính là số filter\n",
      "Kích thước sau maxpool: (None, 14, 14, 20)\n",
      "Kích thước flatten: (None, 3920)\n"
     ]
    }
   ],
   "source": [
    "# Tạo layer input, mỗi data point có kích thước (28,28)\n",
    "inputs = keras.layers.Input(shape=(28, 28))\n",
    "print(\"Kích thước input: {}, None tượng trưng cho số lượng ảnh một batch không xác định trước\".format(inputs.shape))\n",
    "# Reshape input\n",
    "## Do input vào lớp convolutional layer cần có 4 chiều, chiều cuối là số kênh, ảnh mnist là ảnh xám nên chỉ có một kênh\n",
    "inputs_reshape = keras.layers.Reshape((28, 28, 1))(inputs)\n",
    "print(\"Kích thước sau reshape: {}\".format(inputs_reshape.shape))\n",
    "# Tạo Convolutional Layer\n",
    "## fileters: số lượng filter\n",
    "## kernel_size: kích thước của filter\n",
    "## strides: bước dịch của filter khi tính convolution\n",
    "## padding: thêm số 0 hoặc không tính khi tính filter ở biên\n",
    "## có 2 options: \"same\" là sẽ giữ nguyên kích thước ảnh sau khi qua lớp Convolution, \"valid\" kích thước ảnh sẽ đc tính đúng như công thức\n",
    "## activation: hàm kích hoạt của lớp convolution\n",
    "conv = keras.layers.Convolution2D(filters=20, kernel_size=[5, 5], strides=[1, 1], padding='same',\n",
    "                                  activation=tf.nn.relu)(inputs_reshape)\n",
    "print(\"Kích thước conv: {}, chiều cuối cùng chính là số filter\".format(conv.shape))\n",
    "# Maxpooling\n",
    "## pool_size: kích thước pool để lấy max\n",
    "## strides: bước dịch của pool \n",
    "maxpool = keras.layers.MaxPool2D(pool_size=[2, 2], strides=[2, 2])(conv)\n",
    "print(\"Kích thước sau maxpool: {}\".format(maxpool.shape))\n",
    "# Flatten lớp conv trước khi cho vào lớp dense, vì lớp dense yêu cầu input chỉ là vector\n",
    "flatten = keras.layers.Flatten()(maxpool)\n",
    "print(\"Kích thước flatten: {}\".format(flatten.shape))"
   ]
  },
  {
   "cell_type": "code",
   "execution_count": 6,
   "id": "b5c47d14",
   "metadata": {},
   "outputs": [
    {
     "name": "stdout",
     "output_type": "stream",
     "text": [
      "Kích thước input: (None, 28, 28), None tượng trưng cho số lượng ảnh một batch không xác định trước\n",
      "Kích thước sau reshape: (None, 28, 28, 1)\n",
      "Kích thước conv: (None, 28, 28, 20), chiều cuối cùng chính là số filter\n",
      "Kích thước sau maxpool: (None, 14, 14, 20)\n",
      "Kích thước conv_1: (None, 10, 10, 20), chiều cuối cùng chính là số filter\n",
      "Kích thước sau maxpool_1: (None, 5, 5, 20)\n",
      "Kích thước flatten: (None, 500)\n",
      "Kích thước fc4: (None, 40)\n",
      "Kích thước fc5: (None, 40)\n",
      "Cấu trúc của model: \n",
      "Model: \"functional_3\"\n",
      "_________________________________________________________________\n",
      "Layer (type)                 Output Shape              Param #   \n",
      "=================================================================\n",
      "input_5 (InputLayer)         [(None, 28, 28)]          0         \n",
      "_________________________________________________________________\n",
      "reshape_4 (Reshape)          (None, 28, 28, 1)         0         \n",
      "_________________________________________________________________\n",
      "conv2d_1 (Conv2D)            (None, 28, 28, 20)        520       \n",
      "_________________________________________________________________\n",
      "max_pooling2d_1 (MaxPooling2 (None, 14, 14, 20)        0         \n",
      "_________________________________________________________________\n",
      "conv2d_2 (Conv2D)            (None, 10, 10, 20)        10020     \n",
      "_________________________________________________________________\n",
      "max_pooling2d_2 (MaxPooling2 (None, 5, 5, 20)          0         \n",
      "_________________________________________________________________\n",
      "flatten_4 (Flatten)          (None, 500)               0         \n",
      "_________________________________________________________________\n",
      "dense_7 (Dense)              (None, 40)                20040     \n",
      "_________________________________________________________________\n",
      "dense_8 (Dense)              (None, 20)                820       \n",
      "_________________________________________________________________\n",
      "dense_9 (Dense)              (None, 10)                210       \n",
      "=================================================================\n",
      "Total params: 31,610\n",
      "Trainable params: 31,610\n",
      "Non-trainable params: 0\n",
      "_________________________________________________________________\n"
     ]
    }
   ],
   "source": [
    "# Tạo layer input, mỗi data point có kích thước (28,28)\n",
    "inputs = keras.layers.Input(shape=(28, 28))\n",
    "print(\"Kích thước input: {}, None tượng trưng cho số lượng ảnh một batch không xác định trước\".format(inputs.shape))\n",
    "# Reshape input\n",
    "## Do input vào lớp convolutional layer cần có 4 chiều, chiều cuối là số kênh, ảnh mnist là ảnh xám nên chỉ có một kênh\n",
    "inputs_reshape = keras.layers.Reshape((28, 28, 1))(inputs)\n",
    "print(\"Kích thước sau reshape: {}\".format(inputs_reshape.shape))\n",
    "# Tạo Convolutional Layer\n",
    "## fileters: số lượng filter\n",
    "## kernel_size: kích thước của filter\n",
    "## strides: bước dịch của filter khi tính convolution\n",
    "## padding: thêm số 0 hoặc không tính khi tính filter ở biên\n",
    "## có 2 options: \"same\" là sẽ giữ nguyên kích thước ảnh sau khi qua lớp Convolution, \"valid\" kích thước ảnh sẽ đc tính đúng như công thức\n",
    "## activation: hàm kích hoạt của lớp convolution\n",
    "conv = keras.layers.Convolution2D(filters=20, kernel_size=[5, 5], strides=[1, 1], padding='same',\n",
    "                                  activation=tf.nn.relu)(inputs_reshape)\n",
    "print(\"Kích thước conv: {}, chiều cuối cùng chính là số filter\".format(conv.shape))\n",
    "# Maxpooling\n",
    "## pool_size: kích thước pool để lấy max\n",
    "## strides: bước dịch của pool \n",
    "maxpool = keras.layers.MaxPool2D(pool_size=[2, 2], strides=[2, 2])(conv)\n",
    "print(\"Kích thước sau maxpool: {}\".format(maxpool.shape))\n",
    "conv_1 = keras.layers.Convolution2D(20, kernel_size=[5, 5], activation=tf.nn.relu)(maxpool)\n",
    "print(\"Kích thước conv_1: {}, chiều cuối cùng chính là số filter\".format(conv_1.shape))\n",
    "maxpool_1 = keras.layers.MaxPool2D(pool_size=[2, 2], strides=[2, 2])(conv_1)\n",
    "print(\"Kích thước sau maxpool_1: {}\".format(maxpool_1.shape))\n",
    "## Flatten lớp conv trước khi cho vào lớp dense, vì lớp dense yêu cầu input chỉ là vector\n",
    "flatten = keras.layers.Flatten()(maxpool_1)\n",
    "print(\"Kích thước flatten: {}\".format(flatten.shape))\n",
    "dense1 = keras.layers.Dense(units=40, activation=\"relu\")(flatten)\n",
    "print(\"Kích thước fc4: {}\".format(dense1.shape))\n",
    "dense2 = keras.layers.Dense(units=20, activation=\"relu\")(dense1)\n",
    "print(\"Kích thước fc5: {}\".format(dense1.shape))\n",
    "# Lớp fully conntected với hàm kích hoạt softmax, units là số Node\n",
    "## Lưu ý vì đây là lớp để classify nên hàm kích hoạt bắt buộc phải là softmax, \n",
    "softmax = keras.layers.Dense(units=10, activation='softmax')(dense2)\n",
    "# Tạo model, với input là lớp inputs, outputs là lớp softmax\n",
    "model = keras.models.Model(inputs=inputs, outputs=softmax)\n",
    "# Compile model \n",
    "## optimizer là thuật toán tối ưu ở đây dùng adam\n",
    "## loss function là hàm mất mát ở đây dùng sparse_categorical_crossentropy\n",
    "## metrics: để theo dõi các đánh giá trong quá trình huấn luyện. Đối với tập MNIST chúng ta dùng accuracy trên top1\n",
    "model.compile(optimizer='adam', loss=tf.keras.losses.sparse_categorical_crossentropy, metrics=[\"accuracy\"])\n",
    "# In toàn bộ cấu trúc của model\n",
    "print(\"Cấu trúc của model: \")\n",
    "model.summary()"
   ]
  },
  {
   "cell_type": "code",
   "execution_count": null,
   "id": "d9601530",
   "metadata": {},
   "outputs": [],
   "source": []
  }
 ],
 "metadata": {
  "kernelspec": {
   "display_name": "Python 3",
   "language": "python",
   "name": "python3"
  },
  "language_info": {
   "codemirror_mode": {
    "name": "ipython",
    "version": 3
   },
   "file_extension": ".py",
   "mimetype": "text/x-python",
   "name": "python",
   "nbconvert_exporter": "python",
   "pygments_lexer": "ipython3",
   "version": "3.8.8"
  }
 },
 "nbformat": 4,
 "nbformat_minor": 5
}
