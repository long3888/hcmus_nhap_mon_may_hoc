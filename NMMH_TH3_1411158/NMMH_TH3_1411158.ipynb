{
 "cells": [
  {
   "cell_type": "markdown",
   "id": "1b44ffcc",
   "metadata": {},
   "source": [
    "# Bài tập\n",
    "1. Hãy xây dựng mô hình logistic regression bằng tất cả các features trong file heart, so sánh với thư viện sklearn.\n",
    "2. Hãy xây dựng mô hình softmax regression trên bộ Iris (nên Normalize data), so sánh với thư viện sklearn."
   ]
  },
  {
   "cell_type": "code",
   "execution_count": 1,
   "id": "6d181df3",
   "metadata": {},
   "outputs": [],
   "source": [
    "# Import libraries\n",
    "import pandas as pd\n",
    "import numpy as np"
   ]
  },
  {
   "cell_type": "markdown",
   "id": "32505136",
   "metadata": {},
   "source": [
    "## Câu 1"
   ]
  },
  {
   "cell_type": "code",
   "execution_count": 2,
   "id": "7e2e3f9b",
   "metadata": {},
   "outputs": [],
   "source": [
    "def sigmoid(w, x):\n",
    "    return 1 / (1 + np.exp(-x.dot(w)))\n",
    "\n",
    "\n",
    "def logistic(w, learning_rate, iterations):\n",
    "    global X, y\n",
    "\n",
    "    def grad(w):\n",
    "        return X.T.dot(sigmoid(w, X) - y).reshape(w.shape[0], -1) / y.shape[0]\n",
    "\n",
    "    for i in range(iterations):\n",
    "        w = w - learning_rate * grad(w)\n",
    "    return w"
   ]
  },
  {
   "cell_type": "code",
   "execution_count": 3,
   "id": "faeb9215",
   "metadata": {},
   "outputs": [
    {
     "data": {
      "text/html": [
       "<div>\n",
       "<style scoped>\n",
       "    .dataframe tbody tr th:only-of-type {\n",
       "        vertical-align: middle;\n",
       "    }\n",
       "\n",
       "    .dataframe tbody tr th {\n",
       "        vertical-align: top;\n",
       "    }\n",
       "\n",
       "    .dataframe thead th {\n",
       "        text-align: right;\n",
       "    }\n",
       "</style>\n",
       "<table border=\"1\" class=\"dataframe\">\n",
       "  <thead>\n",
       "    <tr style=\"text-align: right;\">\n",
       "      <th></th>\n",
       "      <th>age</th>\n",
       "      <th>sex</th>\n",
       "      <th>cp</th>\n",
       "      <th>trestbps</th>\n",
       "      <th>chol</th>\n",
       "      <th>fbs</th>\n",
       "      <th>restecg</th>\n",
       "      <th>thalach</th>\n",
       "      <th>exang</th>\n",
       "      <th>oldpeak</th>\n",
       "      <th>slope</th>\n",
       "      <th>ca</th>\n",
       "      <th>thal</th>\n",
       "      <th>target</th>\n",
       "    </tr>\n",
       "  </thead>\n",
       "  <tbody>\n",
       "    <tr>\n",
       "      <th>0</th>\n",
       "      <td>63</td>\n",
       "      <td>1</td>\n",
       "      <td>3</td>\n",
       "      <td>145</td>\n",
       "      <td>233</td>\n",
       "      <td>1</td>\n",
       "      <td>0</td>\n",
       "      <td>150</td>\n",
       "      <td>0</td>\n",
       "      <td>2.3</td>\n",
       "      <td>0</td>\n",
       "      <td>0</td>\n",
       "      <td>1</td>\n",
       "      <td>1</td>\n",
       "    </tr>\n",
       "    <tr>\n",
       "      <th>1</th>\n",
       "      <td>37</td>\n",
       "      <td>1</td>\n",
       "      <td>2</td>\n",
       "      <td>130</td>\n",
       "      <td>250</td>\n",
       "      <td>0</td>\n",
       "      <td>1</td>\n",
       "      <td>187</td>\n",
       "      <td>0</td>\n",
       "      <td>3.5</td>\n",
       "      <td>0</td>\n",
       "      <td>0</td>\n",
       "      <td>2</td>\n",
       "      <td>1</td>\n",
       "    </tr>\n",
       "    <tr>\n",
       "      <th>2</th>\n",
       "      <td>41</td>\n",
       "      <td>0</td>\n",
       "      <td>1</td>\n",
       "      <td>130</td>\n",
       "      <td>204</td>\n",
       "      <td>0</td>\n",
       "      <td>0</td>\n",
       "      <td>172</td>\n",
       "      <td>0</td>\n",
       "      <td>1.4</td>\n",
       "      <td>2</td>\n",
       "      <td>0</td>\n",
       "      <td>2</td>\n",
       "      <td>1</td>\n",
       "    </tr>\n",
       "    <tr>\n",
       "      <th>3</th>\n",
       "      <td>56</td>\n",
       "      <td>1</td>\n",
       "      <td>1</td>\n",
       "      <td>120</td>\n",
       "      <td>236</td>\n",
       "      <td>0</td>\n",
       "      <td>1</td>\n",
       "      <td>178</td>\n",
       "      <td>0</td>\n",
       "      <td>0.8</td>\n",
       "      <td>2</td>\n",
       "      <td>0</td>\n",
       "      <td>2</td>\n",
       "      <td>1</td>\n",
       "    </tr>\n",
       "    <tr>\n",
       "      <th>4</th>\n",
       "      <td>57</td>\n",
       "      <td>0</td>\n",
       "      <td>0</td>\n",
       "      <td>120</td>\n",
       "      <td>354</td>\n",
       "      <td>0</td>\n",
       "      <td>1</td>\n",
       "      <td>163</td>\n",
       "      <td>1</td>\n",
       "      <td>0.6</td>\n",
       "      <td>2</td>\n",
       "      <td>0</td>\n",
       "      <td>2</td>\n",
       "      <td>1</td>\n",
       "    </tr>\n",
       "  </tbody>\n",
       "</table>\n",
       "</div>"
      ],
      "text/plain": [
       "   age  sex  cp  trestbps  chol  fbs  restecg  thalach  exang  oldpeak  slope  \\\n",
       "0   63    1   3       145   233    1        0      150      0      2.3      0   \n",
       "1   37    1   2       130   250    0        1      187      0      3.5      0   \n",
       "2   41    0   1       130   204    0        0      172      0      1.4      2   \n",
       "3   56    1   1       120   236    0        1      178      0      0.8      2   \n",
       "4   57    0   0       120   354    0        1      163      1      0.6      2   \n",
       "\n",
       "   ca  thal  target  \n",
       "0   0     1       1  \n",
       "1   0     2       1  \n",
       "2   0     2       1  \n",
       "3   0     2       1  \n",
       "4   0     2       1  "
      ]
     },
     "execution_count": 3,
     "metadata": {},
     "output_type": "execute_result"
    }
   ],
   "source": [
    "# Load data\n",
    "data = pd.read_csv(\"heart.csv\")\n",
    "data.head()"
   ]
  },
  {
   "cell_type": "code",
   "execution_count": 4,
   "id": "9dc57445",
   "metadata": {},
   "outputs": [],
   "source": [
    "from sklearn.model_selection import train_test_split\n",
    "\n",
    "# Data\n",
    "X_train, X_test, y_train, y_test = train_test_split(data.iloc[:, :13].values, data.iloc[:, 13].values, test_size=0.33,\n",
    "                                                    random_state=42)"
   ]
  },
  {
   "cell_type": "code",
   "execution_count": 5,
   "id": "44c0c995",
   "metadata": {},
   "outputs": [],
   "source": [
    "# Normalize\n",
    "min0 = np.min(X_train, axis=0)\n",
    "max0 = np.max(X_train, axis=0)\n",
    "X_train = (X_train - min0) / (max0 - min0)\n",
    "X_test = (X_test - min0) / (max0 - min0)\n",
    "# Add one to X\n",
    "X = np.concatenate((np.ones((X_train.shape[0], 1)), X_train), axis=1)\n",
    "y = y_train.reshape(-1, 1)"
   ]
  },
  {
   "cell_type": "code",
   "execution_count": 6,
   "id": "1db06a6e",
   "metadata": {
    "scrolled": true
   },
   "outputs": [
    {
     "data": {
      "text/plain": [
       "0.8"
      ]
     },
     "execution_count": 6,
     "metadata": {},
     "output_type": "execute_result"
    }
   ],
   "source": [
    "# Initial w\n",
    "w = np.zeros([X.shape[1], 1])\n",
    "w0 = logistic(w, 0.008, 10000)\n",
    "# Test\n",
    "X_test_bar = np.concatenate([np.ones([X_test.shape[0], 1]), X_test], axis=1)\n",
    "a = sigmoid(w0, X_test_bar)\n",
    "np.mean(np.where(a >= 0.5, 1, 0) == y_test.reshape(-1, 1))"
   ]
  },
  {
   "cell_type": "code",
   "execution_count": 7,
   "id": "2080fb2e",
   "metadata": {},
   "outputs": [
    {
     "data": {
      "text/plain": [
       "0.81"
      ]
     },
     "execution_count": 7,
     "metadata": {},
     "output_type": "execute_result"
    }
   ],
   "source": [
    "from sklearn.linear_model import LogisticRegression\n",
    "\n",
    "# Test by sklearn\n",
    "clf = LogisticRegression(random_state=0).fit(X_train, y_train)\n",
    "clf.score(X_test, y_test)"
   ]
  },
  {
   "cell_type": "markdown",
   "id": "e1a313ce",
   "metadata": {},
   "source": [
    "## Câu 2"
   ]
  },
  {
   "cell_type": "code",
   "execution_count": 8,
   "id": "bfd25ff8",
   "metadata": {},
   "outputs": [],
   "source": [
    "def softmax(w, learning_rate, iterations):\n",
    "    global X, y\n",
    "\n",
    "    def grad(w):\n",
    "        w_temp = np.zeros([X.shape[1], y.shape[1]])\n",
    "        for i in range(y.shape[1]):\n",
    "            temp = i + 1\n",
    "            w_temp[:, i:temp] = np.mean(a[:, i:temp] * X, axis=0).reshape(-1, 1)\n",
    "        return w_temp\n",
    "\n",
    "    for i in range(iterations):\n",
    "        expi = np.exp(X.dot(w))\n",
    "        expsum = np.sum(expi, axis=1)\n",
    "        soft1 = expi / expsum.reshape(-1, 1)\n",
    "        a = -y + soft1\n",
    "        w = w - learning_rate * grad(w)\n",
    "\n",
    "    return w"
   ]
  },
  {
   "cell_type": "code",
   "execution_count": 9,
   "id": "9e8c4192",
   "metadata": {},
   "outputs": [],
   "source": [
    "from sklearn import datasets\n",
    "\n",
    "# Load data\n",
    "iris = datasets.load_iris()"
   ]
  },
  {
   "cell_type": "code",
   "execution_count": 10,
   "id": "56af16b1",
   "metadata": {},
   "outputs": [],
   "source": [
    "# Data\n",
    "X0 = iris.data\n",
    "y0 = iris.target\n",
    "X_train ,X_test, y_train, y_test = train_test_split(X0, y0, test_size=0.33, random_state=42)"
   ]
  },
  {
   "cell_type": "code",
   "execution_count": 11,
   "id": "dee997f9",
   "metadata": {},
   "outputs": [],
   "source": [
    "# Normalize\n",
    "max = np.max(X_train, axis=0)\n",
    "min = np.min(X_train, axis=0)\n",
    "X_train = (X_train - min) / (max - min)\n",
    "X_test = (X_test - min) / (max - min)\n",
    "# One-hot\n",
    "y_train_onehot = np.zeros((y_train.size, y_train.max() + 1), dtype=int)\n",
    "y_train_onehot[np.arange(y_train.size), y_train.reshape(-1)] = 1\n",
    "y_test_onehot = np.zeros((y_test.size, y_test.max() + 1), dtype=int)\n",
    "y_test_onehot[np.arange(y_test.size), y_test.reshape(-1)] = 1\n",
    "# Add one to X\n",
    "X_train_bar = np.concatenate([np.ones([X_train.shape[0], 1]), X_train], axis=1)\n",
    "X_test_bar = np.concatenate([np.ones([X_test.shape[0], 1]), X_test], axis=1)\n",
    "X = X_train_bar\n",
    "y = y_train_onehot"
   ]
  },
  {
   "cell_type": "code",
   "execution_count": 12,
   "id": "a89f4cd5",
   "metadata": {},
   "outputs": [
    {
     "data": {
      "text/plain": [
       "0.88"
      ]
     },
     "execution_count": 12,
     "metadata": {},
     "output_type": "execute_result"
    }
   ],
   "source": [
    "# Initial w\n",
    "w = np.zeros([X.shape[1], 3])\n",
    "w0 = softmax(w, 0.008, 10000)\n",
    "# Test\n",
    "expi = np.exp(X_test_bar.dot(w0))\n",
    "expsum = np.sum(expi, axis=1)\n",
    "np.mean(y_test.reshape(-1) == np.argmax(expi / expsum.reshape(-1, 1), axis=1))"
   ]
  },
  {
   "cell_type": "code",
   "execution_count": 13,
   "id": "90f36667",
   "metadata": {},
   "outputs": [
    {
     "data": {
      "text/plain": [
       "0.9"
      ]
     },
     "execution_count": 13,
     "metadata": {},
     "output_type": "execute_result"
    }
   ],
   "source": [
    "# Test by sklearn\n",
    "clf = LogisticRegression(random_state=0).fit(X_train, y_train)\n",
    "clf.score(X_test, y_test)"
   ]
  },
  {
   "cell_type": "code",
   "execution_count": null,
   "id": "dde6b89e",
   "metadata": {},
   "outputs": [],
   "source": []
  }
 ],
 "metadata": {
  "kernelspec": {
   "display_name": "Python 3",
   "language": "python",
   "name": "python3"
  },
  "language_info": {
   "codemirror_mode": {
    "name": "ipython",
    "version": 3
   },
   "file_extension": ".py",
   "mimetype": "text/x-python",
   "name": "python",
   "nbconvert_exporter": "python",
   "pygments_lexer": "ipython3",
   "version": "3.8.8"
  }
 },
 "nbformat": 4,
 "nbformat_minor": 5
}
