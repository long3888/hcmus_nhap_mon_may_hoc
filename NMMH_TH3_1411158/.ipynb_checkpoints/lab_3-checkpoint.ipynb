{
 "cells": [
  {
   "cell_type": "markdown",
   "metadata": {
    "id": "C_DtPuBUEORG"
   },
   "source": [
    "#Logistic Regresion\n",
    "Ta định nghĩa với mọi $t \\in R$ thì hàm sigmoid được định nghĩa như sau:\n",
    "$$f(t)=\\frac{1}{1+\\epsilon^{-t}}$$\n",
    "$x_i \\in R^{n \\times 1}$ là một sample thứ $i$ trong tập dữ liệu,  $y_i \\in R^{1 \\times 1}$ là class của sample thứ $i$, $W \\in R^{n \\times 1}$ là trọng số mà ta cần tìm, ta có:\n",
    "\n",
    "$$\\hat{y_i}=f(x_i^TW)$$\n",
    "\n",
    "Ta định nghĩa hàm Loss như sau:\n",
    "\n",
    "$$Loss=\\frac{1}{N}\\sum^N-Ylog[f(X^TW)]-(1-Y)log[1-f(X^TW)]$$\n",
    "\n",
    "Với $X \\in R^{n \\times 1}$, $Y \\in R^{n \\times 1}$, $W \\in R^{n \\times 1}$.\n",
    "\n",
    "Đặt $Z=f(X^TW)$, ta có\n",
    "$$\\nabla_W Loss = -\\frac{1}{N} \\sum^N(\\frac{Y}{Z}-\\frac{1-Y}{1-Z})\\frac{\\partial Z}{\\partial W}$$\n",
    "\n",
    "Mà: $\\frac{\\partial Z}{\\partial W}=Z(1-Z)X$ nên:\n",
    "\n",
    "$$\\nabla_W Loss = -\\frac{1}{N} \\sum^N(Y-Z)X$$\n",
    "\n",
    "suy ra: \n",
    "$$W:=W-lr\\frac{1}{N} \\sum^N(Z-Y)X$$\n",
    "\n",
    "\n",
    "\n"
   ]
  },
  {
   "cell_type": "markdown",
   "metadata": {
    "id": "CiP_kwLj9fXN"
   },
   "source": [
    "#Softmax Regression\n",
    "Ta hàm softmax như sau:\n",
    "$$a_i=\\frac{e^{X^Tw_i}}{\\sum_{j=1}^Ce^{X^Tw_i}}$$\n",
    "\n",
    "Với $w_i$ chính là trọng số cho hàm softmax của class thứ $i$. Nghĩa là với class thứ $i$ ta tương ứng có $a_i$ là hàm dự đoán xác xuất để sample $x_i$ rơi vào class này. $W=[w_1,w_2,...,w_C]$ là ma trận trọng số cần tìm, $W \\in R^{n \\times C}$, Với C là số Classes có trong dữ liệu\n",
    "\n",
    "Ngoài ta ta phải đổi y từ dạng scaler sang vector theo onehot encoding, tức là:\n",
    "$$y=[y_1,y_2,...,y_C]$$ \n",
    "với $\\sum_{i=1}^Cy_i=1$\n",
    "\n",
    "\n",
    "Ta định nghĩa hàm Loss như sau:\n",
    "\n",
    "$$Loss=\\frac{1}{N} \\sum^N(-\\sum_{i=1}^C y_i log(\\frac{e^{x^Tw_i}}{\\sum_j^Ce^{x^Tw_j}})) $$\n",
    "\n",
    "$$Loss=\\frac{1}{N} \\sum^N(-\\sum_{i=1}^C (y_ix^Tw_i-y_ilog(\\sum_j^Ce^{x^Tw_j}))) $$\n",
    "\n",
    "$$Loss=\\frac{1}{N} \\sum^N(-\\sum_{i=1}^C (y_ix^Tw_i) +log(\\sum_j^Ce^{x^Tw_j})) $$\n",
    "\n",
    "Gradient:\n",
    "$$\\nabla_W Loss = [\\frac{\\partial Loss}{\\partial w_1}, \\frac{\\partial Loss}{\\partial w_2},...,\\frac{\\partial Loss}{\\partial w_C}]$$\n",
    "\n",
    "Với $\\frac{\\partial Loss}{\\partial w_i}=\\frac{1}{N} \\sum^N(-y_i+\\frac{e^{x^Tw_i}}{\\sum_j^Ce^{x^Tw_j}})x$\n",
    "\n",
    "Từ đây ta có công thức cập nhật:\n",
    "\n",
    "$$W:= W- lr\\nabla_W Loss $$"
   ]
  },
  {
   "cell_type": "code",
   "execution_count": 1,
   "metadata": {
    "id": "UpfabBedEKO8"
   },
   "outputs": [],
   "source": [
    "import pandas as pd\n",
    "import numpy as np\n",
    "from sklearn.model_selection import train_test_split"
   ]
  },
  {
   "cell_type": "markdown",
   "metadata": {
    "id": "iBoTD6c7upP8"
   },
   "source": [
    "- Data này là dùng các features như tuổi, giới tính, lượng cholesterol để dự đoán bệnh nhân có bị mắc bệnh tim mạch hay không.\n",
    "\n",
    "- target gồm 2 label 1 và 0 tương ứng là mắc bệnh hay không mắc bệnh."
   ]
  },
  {
   "cell_type": "markdown",
   "metadata": {
    "id": "e5z4FCnqAmtE"
   },
   "source": [
    "#Bài tập"
   ]
  },
  {
   "cell_type": "markdown",
   "metadata": {
    "id": "S8kP3tKp_IxN"
   },
   "source": [
    "1. Hãy xây dựng mô hình logistic regression bằng tất cả các features trong file heart, so sánh với thư viện sklearn.\n",
    "2. Hãy xây dựng mô hình softmax regression trên bộ Iris (nên Normalize data), so sánh với thư viện sklearn."
   ]
  },
  {
   "cell_type": "markdown",
   "metadata": {},
   "source": [
    "# Bài 1"
   ]
  },
  {
   "cell_type": "code",
   "execution_count": 2,
   "metadata": {},
   "outputs": [
    {
     "data": {
      "text/html": [
       "<div>\n",
       "<style scoped>\n",
       "    .dataframe tbody tr th:only-of-type {\n",
       "        vertical-align: middle;\n",
       "    }\n",
       "\n",
       "    .dataframe tbody tr th {\n",
       "        vertical-align: top;\n",
       "    }\n",
       "\n",
       "    .dataframe thead th {\n",
       "        text-align: right;\n",
       "    }\n",
       "</style>\n",
       "<table border=\"1\" class=\"dataframe\">\n",
       "  <thead>\n",
       "    <tr style=\"text-align: right;\">\n",
       "      <th></th>\n",
       "      <th>age</th>\n",
       "      <th>sex</th>\n",
       "      <th>cp</th>\n",
       "      <th>trestbps</th>\n",
       "      <th>chol</th>\n",
       "      <th>fbs</th>\n",
       "      <th>restecg</th>\n",
       "      <th>thalach</th>\n",
       "      <th>exang</th>\n",
       "      <th>oldpeak</th>\n",
       "      <th>slope</th>\n",
       "      <th>ca</th>\n",
       "      <th>thal</th>\n",
       "      <th>target</th>\n",
       "    </tr>\n",
       "  </thead>\n",
       "  <tbody>\n",
       "    <tr>\n",
       "      <th>0</th>\n",
       "      <td>63</td>\n",
       "      <td>1</td>\n",
       "      <td>3</td>\n",
       "      <td>145</td>\n",
       "      <td>233</td>\n",
       "      <td>1</td>\n",
       "      <td>0</td>\n",
       "      <td>150</td>\n",
       "      <td>0</td>\n",
       "      <td>2.3</td>\n",
       "      <td>0</td>\n",
       "      <td>0</td>\n",
       "      <td>1</td>\n",
       "      <td>1</td>\n",
       "    </tr>\n",
       "    <tr>\n",
       "      <th>1</th>\n",
       "      <td>37</td>\n",
       "      <td>1</td>\n",
       "      <td>2</td>\n",
       "      <td>130</td>\n",
       "      <td>250</td>\n",
       "      <td>0</td>\n",
       "      <td>1</td>\n",
       "      <td>187</td>\n",
       "      <td>0</td>\n",
       "      <td>3.5</td>\n",
       "      <td>0</td>\n",
       "      <td>0</td>\n",
       "      <td>2</td>\n",
       "      <td>1</td>\n",
       "    </tr>\n",
       "    <tr>\n",
       "      <th>2</th>\n",
       "      <td>41</td>\n",
       "      <td>0</td>\n",
       "      <td>1</td>\n",
       "      <td>130</td>\n",
       "      <td>204</td>\n",
       "      <td>0</td>\n",
       "      <td>0</td>\n",
       "      <td>172</td>\n",
       "      <td>0</td>\n",
       "      <td>1.4</td>\n",
       "      <td>2</td>\n",
       "      <td>0</td>\n",
       "      <td>2</td>\n",
       "      <td>1</td>\n",
       "    </tr>\n",
       "    <tr>\n",
       "      <th>3</th>\n",
       "      <td>56</td>\n",
       "      <td>1</td>\n",
       "      <td>1</td>\n",
       "      <td>120</td>\n",
       "      <td>236</td>\n",
       "      <td>0</td>\n",
       "      <td>1</td>\n",
       "      <td>178</td>\n",
       "      <td>0</td>\n",
       "      <td>0.8</td>\n",
       "      <td>2</td>\n",
       "      <td>0</td>\n",
       "      <td>2</td>\n",
       "      <td>1</td>\n",
       "    </tr>\n",
       "    <tr>\n",
       "      <th>4</th>\n",
       "      <td>57</td>\n",
       "      <td>0</td>\n",
       "      <td>0</td>\n",
       "      <td>120</td>\n",
       "      <td>354</td>\n",
       "      <td>0</td>\n",
       "      <td>1</td>\n",
       "      <td>163</td>\n",
       "      <td>1</td>\n",
       "      <td>0.6</td>\n",
       "      <td>2</td>\n",
       "      <td>0</td>\n",
       "      <td>2</td>\n",
       "      <td>1</td>\n",
       "    </tr>\n",
       "    <tr>\n",
       "      <th>...</th>\n",
       "      <td>...</td>\n",
       "      <td>...</td>\n",
       "      <td>...</td>\n",
       "      <td>...</td>\n",
       "      <td>...</td>\n",
       "      <td>...</td>\n",
       "      <td>...</td>\n",
       "      <td>...</td>\n",
       "      <td>...</td>\n",
       "      <td>...</td>\n",
       "      <td>...</td>\n",
       "      <td>...</td>\n",
       "      <td>...</td>\n",
       "      <td>...</td>\n",
       "    </tr>\n",
       "    <tr>\n",
       "      <th>298</th>\n",
       "      <td>57</td>\n",
       "      <td>0</td>\n",
       "      <td>0</td>\n",
       "      <td>140</td>\n",
       "      <td>241</td>\n",
       "      <td>0</td>\n",
       "      <td>1</td>\n",
       "      <td>123</td>\n",
       "      <td>1</td>\n",
       "      <td>0.2</td>\n",
       "      <td>1</td>\n",
       "      <td>0</td>\n",
       "      <td>3</td>\n",
       "      <td>0</td>\n",
       "    </tr>\n",
       "    <tr>\n",
       "      <th>299</th>\n",
       "      <td>45</td>\n",
       "      <td>1</td>\n",
       "      <td>3</td>\n",
       "      <td>110</td>\n",
       "      <td>264</td>\n",
       "      <td>0</td>\n",
       "      <td>1</td>\n",
       "      <td>132</td>\n",
       "      <td>0</td>\n",
       "      <td>1.2</td>\n",
       "      <td>1</td>\n",
       "      <td>0</td>\n",
       "      <td>3</td>\n",
       "      <td>0</td>\n",
       "    </tr>\n",
       "    <tr>\n",
       "      <th>300</th>\n",
       "      <td>68</td>\n",
       "      <td>1</td>\n",
       "      <td>0</td>\n",
       "      <td>144</td>\n",
       "      <td>193</td>\n",
       "      <td>1</td>\n",
       "      <td>1</td>\n",
       "      <td>141</td>\n",
       "      <td>0</td>\n",
       "      <td>3.4</td>\n",
       "      <td>1</td>\n",
       "      <td>2</td>\n",
       "      <td>3</td>\n",
       "      <td>0</td>\n",
       "    </tr>\n",
       "    <tr>\n",
       "      <th>301</th>\n",
       "      <td>57</td>\n",
       "      <td>1</td>\n",
       "      <td>0</td>\n",
       "      <td>130</td>\n",
       "      <td>131</td>\n",
       "      <td>0</td>\n",
       "      <td>1</td>\n",
       "      <td>115</td>\n",
       "      <td>1</td>\n",
       "      <td>1.2</td>\n",
       "      <td>1</td>\n",
       "      <td>1</td>\n",
       "      <td>3</td>\n",
       "      <td>0</td>\n",
       "    </tr>\n",
       "    <tr>\n",
       "      <th>302</th>\n",
       "      <td>57</td>\n",
       "      <td>0</td>\n",
       "      <td>1</td>\n",
       "      <td>130</td>\n",
       "      <td>236</td>\n",
       "      <td>0</td>\n",
       "      <td>0</td>\n",
       "      <td>174</td>\n",
       "      <td>0</td>\n",
       "      <td>0.0</td>\n",
       "      <td>1</td>\n",
       "      <td>1</td>\n",
       "      <td>2</td>\n",
       "      <td>0</td>\n",
       "    </tr>\n",
       "  </tbody>\n",
       "</table>\n",
       "<p>303 rows × 14 columns</p>\n",
       "</div>"
      ],
      "text/plain": [
       "     age  sex  cp  trestbps  chol  fbs  restecg  thalach  exang  oldpeak  \\\n",
       "0     63    1   3       145   233    1        0      150      0      2.3   \n",
       "1     37    1   2       130   250    0        1      187      0      3.5   \n",
       "2     41    0   1       130   204    0        0      172      0      1.4   \n",
       "3     56    1   1       120   236    0        1      178      0      0.8   \n",
       "4     57    0   0       120   354    0        1      163      1      0.6   \n",
       "..   ...  ...  ..       ...   ...  ...      ...      ...    ...      ...   \n",
       "298   57    0   0       140   241    0        1      123      1      0.2   \n",
       "299   45    1   3       110   264    0        1      132      0      1.2   \n",
       "300   68    1   0       144   193    1        1      141      0      3.4   \n",
       "301   57    1   0       130   131    0        1      115      1      1.2   \n",
       "302   57    0   1       130   236    0        0      174      0      0.0   \n",
       "\n",
       "     slope  ca  thal  target  \n",
       "0        0   0     1       1  \n",
       "1        0   0     2       1  \n",
       "2        2   0     2       1  \n",
       "3        2   0     2       1  \n",
       "4        2   0     2       1  \n",
       "..     ...  ..   ...     ...  \n",
       "298      1   0     3       0  \n",
       "299      1   0     3       0  \n",
       "300      1   2     3       0  \n",
       "301      1   1     3       0  \n",
       "302      1   1     2       0  \n",
       "\n",
       "[303 rows x 14 columns]"
      ]
     },
     "execution_count": 2,
     "metadata": {},
     "output_type": "execute_result"
    }
   ],
   "source": [
    "data = pd.read_csv(\"heart.csv\")\n",
    "data"
   ]
  },
  {
   "cell_type": "code",
   "execution_count": 3,
   "metadata": {},
   "outputs": [],
   "source": [
    "X_train, X_test, y_train, y_test = train_test_split(data.loc[:,\"thal\"].values, data.loc[:,\"target\"].values, test_size=0.33, random_state=42)\n",
    "\n",
    "min = np.min(X_train, axis=0)\n",
    "max = np.max(X_train, axis=0)\n",
    "X_train = (X_train-min) / (max -min)\n",
    "\n",
    "X_test = (X_test-min) / (max-min)\n"
   ]
  },
  {
   "cell_type": "code",
   "execution_count": 4,
   "metadata": {},
   "outputs": [],
   "source": [
    "#Vì chỉ lấy có 1 biến nên phải reshape X_train và X_test\n",
    "X_train=X_train.reshape([-1,1])\n",
    "X_test=X_test.reshape([-1,1])\n",
    "\n",
    "y_train=y_train.reshape([-1,1])\n",
    "y_test=y_test.reshape([-1,1])\n",
    "#Thêm 1 cột những số 1 vào X_train\n",
    "X_train_bar=np.concatenate([np.ones([X_train.shape[0], 1]), X_train], axis=1)"
   ]
  },
  {
   "cell_type": "code",
   "execution_count": 5,
   "metadata": {},
   "outputs": [],
   "source": [
    "#Hàm sigmoid\n",
    "def sigmoid(W,X):\n",
    "  \"\"\"\n",
    "  W là trọng số\n",
    "  X là sample(s)\n",
    "  \"\"\"\n",
    "\n",
    "  return 1/(1+np.exp((-np.matmul(X,W))))\n"
   ]
  },
  {
   "cell_type": "code",
   "execution_count": null,
   "metadata": {},
   "outputs": [],
   "source": []
  },
  {
   "cell_type": "code",
   "execution_count": 6,
   "metadata": {},
   "outputs": [],
   "source": [
    "def logictisRegression(X_train, y_train, learning_rate, epoch):\n",
    "    #W_init=np.random.rand(14,1)\n",
    "    #W_init=np.array([[ 2.23789173],\n",
    "    #       [-0.96136103]]) #Đây là khởi tạo\n",
    "    \n",
    "    X_train_bar=np.concatenate([np.ones([X_train.shape[0],1]),X_train],axis=1)\n",
    "\n",
    "    W_init=np.zeros([X_train_bar.shape[1],1])\n",
    "    \"\"\"W_init=np.array([[ 0.38652764],\n",
    "           [-1.0147613 ]]) #lưu ý đây là W_init gần với W cần tìm để chạy cho nhanh\n",
    "           \"\"\"\n",
    "    list_W=[W_init]\n",
    "    list_error=[10]\n",
    "    for i in range(epoch):\n",
    "        W = list_W[-1]\n",
    "        prediction = sigmoid(W,X_train_bar) # Dự đoán\n",
    "\n",
    "        error = -np.mean((y_train*np.log(prediction)+(1-y_train)*np.log(1-prediction)),axis=0) #Tính error\n",
    "\n",
    "        gradient = np.mean((prediction-y_train)*X_train_bar,axis=0) #Tính Gradient\n",
    "        gradient = gradient.reshape(-1,1)\n",
    "\n",
    "        W = W - learning_rate * gradient #cập nhật W\n",
    "\n",
    "        list_W.append(W)\n",
    "        list_error.append(error)\n",
    "        if i % 1000 == 0:\n",
    "            print(list_error[-1])\n",
    "    return W"
   ]
  },
  {
   "cell_type": "code",
   "execution_count": 7,
   "metadata": {},
   "outputs": [
    {
     "name": "stdout",
     "output_type": "stream",
     "text": [
      "[0.69314718]\n",
      "[0.69215586]\n",
      "[0.69121735]\n",
      "[0.69030843]\n",
      "[0.68941869]\n",
      "[0.68854343]\n",
      "[0.68768048]\n",
      "[0.6868288]\n",
      "[0.68598785]\n",
      "[0.68515733]\n",
      "[0.68433703]\n",
      "[0.68352678]\n",
      "[0.68272643]\n",
      "[0.68193587]\n",
      "[0.68115496]\n",
      "[0.68038358]\n",
      "[0.67962161]\n",
      "[0.67886892]\n",
      "[0.6781254]\n",
      "[0.67739094]\n",
      "[0.67666541]\n",
      "[0.6759487]\n",
      "[0.6752407]\n",
      "[0.6745413]\n",
      "[0.67385039]\n",
      "[0.67316786]\n",
      "[0.6724936]\n",
      "[0.6718275]\n",
      "[0.67116947]\n",
      "[0.67051939]\n",
      "[0.66987716]\n",
      "[0.66924269]\n",
      "[0.66861586]\n",
      "[0.66799659]\n",
      "[0.66738478]\n",
      "[0.66678032]\n",
      "[0.66618313]\n",
      "[0.66559312]\n",
      "[0.66501017]\n",
      "[0.66443422]\n",
      "[0.66386516]\n",
      "[0.6633029]\n",
      "[0.66274736]\n",
      "[0.66219846]\n",
      "[0.6616561]\n",
      "[0.6611202]\n",
      "[0.66059068]\n",
      "[0.66006745]\n",
      "[0.65955044]\n",
      "[0.65903956]\n"
     ]
    },
    {
     "data": {
      "text/plain": [
       "0.75"
      ]
     },
     "execution_count": 7,
     "metadata": {},
     "output_type": "execute_result"
    }
   ],
   "source": [
    "#test\n",
    "X_test_bar = np.concatenate([np.ones([X_test.shape[0], 1]), X_test], axis=1)\n",
    "a = sigmoid(logictisRegression(X_train, y_train, learning_rate=0.001, epoch = 50000), X_test_bar)\n",
    "np.mean(np.where(a > 0.5, 1, 0) == y_test)"
   ]
  },
  {
   "cell_type": "code",
   "execution_count": 8,
   "metadata": {},
   "outputs": [
    {
     "name": "stderr",
     "output_type": "stream",
     "text": [
      "/home/minhvu/anaconda3/lib/python3.8/site-packages/sklearn/utils/validation.py:72: DataConversionWarning: A column-vector y was passed when a 1d array was expected. Please change the shape of y to (n_samples, ), for example using ravel().\n",
      "  return f(**kwargs)\n"
     ]
    },
    {
     "data": {
      "text/plain": [
       "0.75"
      ]
     },
     "execution_count": 8,
     "metadata": {},
     "output_type": "execute_result"
    }
   ],
   "source": [
    "#Kiểm tra lại\n",
    "from sklearn.linear_model import LogisticRegression\n",
    "clf = LogisticRegression(random_state=0).fit(X_train, y_train)\n",
    "clf.score(X_test,y_test)"
   ]
  },
  {
   "cell_type": "markdown",
   "metadata": {},
   "source": [
    "# Bài 2"
   ]
  },
  {
   "cell_type": "code",
   "execution_count": 9,
   "metadata": {},
   "outputs": [],
   "source": [
    "from sklearn import datasets\n",
    "\n",
    "# import some data to play with\n",
    "iris = datasets.load_iris()\n",
    "X = iris.data\n",
    "y = iris.target\n",
    "\n",
    "X_train, X_test, y_train, y_test = train_test_split(\n",
    "  X, y, test_size=0.33, random_state=42)\n",
    "#Normalize\n",
    "max = np.max(X_train, axis=0)\n",
    "min = np.min(X_train, axis=0)\n",
    "X_train = (X_train - min) / (max -min)\n",
    "X_test = (X_test - min) / (max - min)"
   ]
  },
  {
   "cell_type": "code",
   "execution_count": 10,
   "metadata": {},
   "outputs": [],
   "source": [
    "def softmax(X_train, y_train, learning_rate, epoch):\n",
    "    #X_train bar\n",
    "    X_train_bar=np.concatenate([np.ones([X_train.shape[0],1]),X_train], axis=1)\n",
    "    #y_train onehot\n",
    "    y_train_onehot = np.zeros((y_train.size, y_train.max() + 1), dtype=int)\n",
    "    y_train_onehot[np.arange(y_train.size), y_train.reshape(-1)] = 1\n",
    "    W_init = np.zeros([X_train_bar.shape[1],1])\n",
    "    list_W = [W_init]\n",
    "    list_error = [0]\n",
    "    for i in range(epoch):\n",
    "        expi = np.exp(np.matmul(X_train_bar,list_W[-1])) #300 3\n",
    "        expsum = np.sum(expi,axis=1)   #300, \n",
    "        soft1 = expi / expsum.reshape(-1,1)  #300 1\n",
    "        a = (-y_train_onehot + soft1)    #300,1\n",
    "        W_temp = np.zeros([X_train_bar.shape[1], y_train_onehot.shape[1]])\n",
    "        #W_temp\n",
    "        for i in range(y_train_onehot.shape[1]):\n",
    "            temp = i+1\n",
    "            W_temp[:,i:temp] = np.mean(a[:,i:temp] * X_train_bar, axis=0).reshape(-1,1)\n",
    "        #cal error\n",
    "        W = list_W[-1] - learning_rate * W_temp\n",
    "    for i in range(y_train_onehot.shape[1]):\n",
    "        error = np.exp(np.matmul(X_train_bar, W))/np.sum(np.exp(np.matmul(X_train_bar, W)), axis=1).reshape(-1,1)\n",
    "        error = -y_train_onehot * np.log(error)\n",
    "        error = np.sum(np.mean(error, axis=0))\n",
    "    list_W.append(W)\n",
    "    list_error.append(error)\n",
    "    if epoch % 10000==0:\n",
    "        print(list_error[-1])\n",
    "    return list_W[-1]"
   ]
  },
  {
   "cell_type": "code",
   "execution_count": 25,
   "metadata": {},
   "outputs": [],
   "source": [
    "#X_train bar\n",
    "X_train_bar=np.concatenate([np.ones([X_train.shape[0],1]),X_train], axis=1)\n",
    "#y_train onehot\n",
    "y_train_onehot = np.zeros((y_train.size, y_train.max() + 1), dtype=int)\n",
    "y_train_onehot[np.arange(y_train.size), y_train.reshape(-1)] = 1\n",
    "#X_test_bar\n",
    "X_test_bar = np.concatenate([np.ones([X_test.shape[0],1]), X_test], axis=1)\n",
    "#y_test onehot\n",
    "y_test_onehot = np.zeros((y_test.size, y_test.max() + 1), dtype=int)\n",
    "y_test_onehot[np.arange(y_test.size), y_test.reshape(-1)] = 1"
   ]
  },
  {
   "cell_type": "code",
   "execution_count": 12,
   "metadata": {},
   "outputs": [
    {
     "name": "stdout",
     "output_type": "stream",
     "text": [
      "1.098198230715856\n"
     ]
    },
    {
     "data": {
      "text/plain": [
       "array([[0.33298605, 0.33339964, 0.33361431],\n",
       "       [0.33324569, 0.33332617, 0.33342814],\n",
       "       [0.33271433, 0.33345166, 0.33383402],\n",
       "       [0.3329735 , 0.33339858, 0.33362792],\n",
       "       [0.33293276, 0.33340733, 0.33365991],\n",
       "       [0.33324519, 0.33333542, 0.33341939],\n",
       "       [0.33304753, 0.33338461, 0.33356786],\n",
       "       [0.33284001, 0.33341523, 0.33374476],\n",
       "       [0.3329432 , 0.33341967, 0.33363712],\n",
       "       [0.33302955, 0.33339294, 0.33357751],\n",
       "       [0.33288871, 0.33340587, 0.33370542],\n",
       "       [0.33329125, 0.33333824, 0.33337051],\n",
       "       [0.33327132, 0.33332824, 0.33340044],\n",
       "       [0.33328583, 0.33333693, 0.33337725],\n",
       "       [0.33327998, 0.33332091, 0.33339912],\n",
       "       [0.33295509, 0.33339221, 0.3336527 ],\n",
       "       [0.33283415, 0.33342139, 0.33374446],\n",
       "       [0.33304143, 0.33339612, 0.33356245],\n",
       "       [0.33300224, 0.33339692, 0.33360084],\n",
       "       [0.33284068, 0.33342458, 0.33373474],\n",
       "       [0.33328388, 0.33333541, 0.33338071],\n",
       "       [0.33292708, 0.33340455, 0.33366837],\n",
       "       [0.33325822, 0.33333423, 0.33340755],\n",
       "       [0.33285013, 0.33342314, 0.33372672],\n",
       "       [0.33279227, 0.33340921, 0.33379853],\n",
       "       [0.33284132, 0.33341799, 0.33374069],\n",
       "       [0.33284787, 0.33343101, 0.33372112],\n",
       "       [0.33281375, 0.33341974, 0.33376651],\n",
       "       [0.33327233, 0.33334114, 0.33338654],\n",
       "       [0.33327647, 0.33333882, 0.33338472],\n",
       "       [0.33332585, 0.33331748, 0.33335667],\n",
       "       [0.33326324, 0.33330849, 0.33342827],\n",
       "       [0.3329632 , 0.33339425, 0.33364255],\n",
       "       [0.33328576, 0.33333024, 0.333384  ],\n",
       "       [0.33330944, 0.33333079, 0.33335977],\n",
       "       [0.33288931, 0.33342236, 0.33368833],\n",
       "       [0.33296556, 0.33339219, 0.33364225],\n",
       "       [0.33327583, 0.33332858, 0.33339559],\n",
       "       [0.33329176, 0.33332364, 0.3333846 ],\n",
       "       [0.33330388, 0.33330999, 0.33338613],\n",
       "       [0.33291284, 0.33341491, 0.33367225],\n",
       "       [0.33297953, 0.33338574, 0.33363474],\n",
       "       [0.33294111, 0.33339866, 0.33366022],\n",
       "       [0.3332691 , 0.33331915, 0.33341174],\n",
       "       [0.33327341, 0.33332396, 0.33340263],\n",
       "       [0.33306052, 0.33339501, 0.33354447],\n",
       "       [0.33293222, 0.33340901, 0.33365876],\n",
       "       [0.332892  , 0.33340926, 0.33369874],\n",
       "       [0.33296441, 0.33339657, 0.33363902],\n",
       "       [0.33278158, 0.33341534, 0.33380308]])"
      ]
     },
     "execution_count": 12,
     "metadata": {},
     "output_type": "execute_result"
    }
   ],
   "source": [
    "expi = np.exp(np.matmul(X_test_bar, softmax(X_train, y_train, learning_rate = 0.005, epoch = 200000)))\n",
    "expsum = np.sum(expi, axis=1)  \n",
    "soft1 = expi / expsum.reshape(-1,1)\n",
    "soft1"
   ]
  },
  {
   "cell_type": "code",
   "execution_count": 13,
   "metadata": {},
   "outputs": [
    {
     "data": {
      "text/plain": [
       "0.32"
      ]
     },
     "execution_count": 13,
     "metadata": {},
     "output_type": "execute_result"
    }
   ],
   "source": [
    "#Kết quả\n",
    "np.mean(y_test.reshape(-1) == np.argmax(expi / expsum.reshape(-1,1), axis=1))"
   ]
  },
  {
   "cell_type": "code",
   "execution_count": 28,
   "metadata": {},
   "outputs": [
    {
     "data": {
      "text/plain": [
       "0.9"
      ]
     },
     "execution_count": 28,
     "metadata": {},
     "output_type": "execute_result"
    }
   ],
   "source": [
    "#dùng sklearn\n",
    "from sklearn.linear_model import LogisticRegression\n",
    "clf = LogisticRegression(random_state=0).fit(X_train, y_train)\n",
    "clf.score(X_test, y_test)"
   ]
  },
  {
   "cell_type": "code",
   "execution_count": null,
   "metadata": {},
   "outputs": [],
   "source": []
  }
 ],
 "metadata": {
  "colab": {
   "collapsed_sections": [],
   "name": "Copy of lab_03.ipynb",
   "provenance": [],
   "toc_visible": true
  },
  "kernelspec": {
   "display_name": "Python 3",
   "language": "python",
   "name": "python3"
  },
  "language_info": {
   "codemirror_mode": {
    "name": "ipython",
    "version": 3
   },
   "file_extension": ".py",
   "mimetype": "text/x-python",
   "name": "python",
   "nbconvert_exporter": "python",
   "pygments_lexer": "ipython3",
   "version": "3.8.8"
  }
 },
 "nbformat": 4,
 "nbformat_minor": 1
}
