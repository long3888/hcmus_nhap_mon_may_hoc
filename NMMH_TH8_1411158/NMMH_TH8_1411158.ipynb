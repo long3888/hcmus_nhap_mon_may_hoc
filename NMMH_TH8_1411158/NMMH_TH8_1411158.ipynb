{
 "cells": [
  {
   "cell_type": "markdown",
   "id": "f92332dc",
   "metadata": {},
   "source": [
    "# Bài Tập\n",
    "1. Từ code demo hãy cài đặt thêm một module để chọn ra được bộ weights sao cho accuracy trên tập validation là tốt nhất.\n",
    "2. Từ bộ dữ liệu bên dưới hãy cài đặt backpropagation cho bài toán phân biệt ung thư vú. Hãy tự chọn số layers và số nodes mà mình cho là thích hợp, cũng như là nêu ra số layers và số nodes của mỗi layer mà mình đã chọn. Tính accuracy trên tập training."
   ]
  },
  {
   "cell_type": "code",
   "execution_count": 1,
   "id": "cc401e10",
   "metadata": {},
   "outputs": [],
   "source": [
    "# Import libraries\n",
    "import numpy as np\n",
    "import pandas as pd"
   ]
  },
  {
   "cell_type": "markdown",
   "id": "4d22f21c",
   "metadata": {},
   "source": [
    "## Câu 1"
   ]
  },
  {
   "cell_type": "code",
   "execution_count": 2,
   "id": "e420fd67",
   "metadata": {},
   "outputs": [],
   "source": [
    "# Load data\n",
    "train = pd.read_csv('bt_train.csv')\n",
    "valid = pd.read_csv('bt_valid.csv')"
   ]
  },
  {
   "cell_type": "code",
   "execution_count": 3,
   "id": "e4de9068",
   "metadata": {},
   "outputs": [],
   "source": [
    "# Preprocessing\n",
    "def one_hot_vector(y):\n",
    "    out = np.zeros((y.shape[0], max(y) + 1))\n",
    "    for i in range(y.shape[0]):\n",
    "        out[i, y[i]] = 1\n",
    "    return out"
   ]
  },
  {
   "cell_type": "code",
   "execution_count": 4,
   "id": "36d68c9b",
   "metadata": {},
   "outputs": [],
   "source": [
    "x1_train = train['x1'].values\n",
    "x2_train = train['x2'].values\n",
    "y_train = train['label'].values\n",
    "x1_valid = valid['x1'].values\n",
    "x2_valid = valid['x2'].values\n",
    "y_valid = valid['label'].values\n",
    "# Normalize\n",
    "x1_mean = np.mean(x1_train)\n",
    "x1_std = np.std(x1_train)\n",
    "x2_mean = np.mean(x2_train)\n",
    "x2_std = np.std(x2_train)\n",
    "x1_train = (x1_train - x1_mean) / x1_std\n",
    "x2_train = (x2_train - x2_mean) / x2_std\n",
    "x1_valid = (x1_valid - x1_mean) / x1_std\n",
    "x2_valid = (x2_valid - x2_mean) / x2_std\n",
    "X_train = np.concatenate([x1_train.reshape(-1, 1), x2_train.reshape(-1, 1)], axis=1)\n",
    "y_train = one_hot_vector(y_train)\n",
    "X_valid = np.concatenate([x1_valid.reshape(-1, 1), x2_valid.reshape(-1, 1)], axis=1)"
   ]
  },
  {
   "cell_type": "code",
   "execution_count": 5,
   "id": "4082719a",
   "metadata": {},
   "outputs": [],
   "source": [
    "# Initialize\n",
    "np.random.seed(4)\n",
    "W1 = np.random.randn(2, 5)\n",
    "W2 = np.random.randn(5, 5)\n",
    "W3 = np.random.randn(5, 3)\n",
    "W4 = np.random.randn(3, 3)\n",
    "b1 = np.random.randn(1, 5)\n",
    "b2 = np.random.randn(1, 5)\n",
    "b3 = np.random.randn(1, 3)\n",
    "b4 = np.random.randn(1, 3)"
   ]
  },
  {
   "cell_type": "code",
   "execution_count": 6,
   "id": "8950acde",
   "metadata": {},
   "outputs": [],
   "source": [
    "def relu(h):\n",
    "    return np.array([max(0, i) for i in h.reshape(-1)]).reshape(h.shape)\n",
    "\n",
    "\n",
    "def softmax(z):\n",
    "    return np.exp(z) / np.sum(np.exp(z), axis=1).reshape(-1, 1)\n",
    "\n",
    "\n",
    "ln = 0.052\n",
    "N = y_train.shape[0]"
   ]
  },
  {
   "cell_type": "code",
   "execution_count": 7,
   "id": "c8b4efde",
   "metadata": {},
   "outputs": [],
   "source": [
    "for epochs in range(30):\n",
    "    # foward\n",
    "    z1 = np.dot(X_train, W1) + b1\n",
    "    o1 = relu(z1)\n",
    "    z2 = np.dot(o1, W2) + b2\n",
    "    o2 = relu(z2)\n",
    "    z3 = np.dot(o2, W3) + b3\n",
    "    o3 = np.tanh(z3)\n",
    "    z4 = np.dot(o3, W4) + b4\n",
    "    o4 = softmax(z4)\n",
    "    # backpropagation\n",
    "    dL_dz4 = 1 / len(X_train) * (o4 - y_train)\n",
    "    dL_dW4 = np.dot(o3.T, dL_dz4)\n",
    "    dL_db4 = np.sum(dL_dz4, axis=0)\n",
    "    dL_do3 = np.dot(dL_dz4, W4.T)\n",
    "    dL_dz3 = dL_do3.copy()\n",
    "    dL_dz3[z3 < 0] = 0\n",
    "    dL_dW3 = np.dot(o2.T, dL_dz3)\n",
    "    dL_db3 = np.sum(dL_dz3, axis=0)\n",
    "    dL_do2 = np.dot(dL_dz3, W3.T)\n",
    "    dL_dz2 = dL_do2.copy()\n",
    "    dL_dz2[z2 < 0] = 0\n",
    "    dL_dW2 = np.dot(o1.T, dL_dz2)\n",
    "    dL_db2 = np.sum(dL_dz2, axis=0)\n",
    "    dL_do1 = np.dot(dL_dz2, W2.T)\n",
    "    dL_dz1 = dL_do1.copy()\n",
    "    dL_dz1[z1 < 0] = 0\n",
    "    dL_dW1 = np.dot(X_train.T, dL_dz1)\n",
    "    dL_db1 = np.sum(dL_dz1, axis=0)\n",
    "    W4 -= ln * dL_dW4\n",
    "    b4 -= ln * dL_db4\n",
    "    W3 -= ln * dL_dW3\n",
    "    b3 -= ln * dL_db3\n",
    "    W2 -= ln * dL_dW2\n",
    "    b2 -= ln * dL_db2\n",
    "    W1 -= ln * dL_dW1\n",
    "    b1 -= ln * dL_db1"
   ]
  },
  {
   "cell_type": "code",
   "execution_count": 8,
   "id": "d8f18d9a",
   "metadata": {},
   "outputs": [],
   "source": [
    "z1_valid = np.dot(X_valid, W1) + b1\n",
    "o1_valid = relu(z1_valid)\n",
    "z2_valid = np.dot(o1_valid, W2) + b2\n",
    "o2_valid = relu(z2_valid)\n",
    "z3_valid = np.dot(o2_valid, W3) + b3\n",
    "o3_valid = np.tanh(z3_valid)\n",
    "z4_valid = np.dot(o3_valid, W4) + b4\n",
    "o4_valid = softmax(z4_valid)"
   ]
  },
  {
   "cell_type": "code",
   "execution_count": 9,
   "id": "3453433d",
   "metadata": {},
   "outputs": [
    {
     "data": {
      "text/plain": [
       "0.7"
      ]
     },
     "execution_count": 9,
     "metadata": {},
     "output_type": "execute_result"
    }
   ],
   "source": [
    "np.sum(np.argmax(o4_valid, axis=1) == y_valid) / y_valid.shape[0]"
   ]
  },
  {
   "cell_type": "markdown",
   "id": "f83b5afa",
   "metadata": {},
   "source": [
    "## Câu 2"
   ]
  },
  {
   "cell_type": "code",
   "execution_count": 10,
   "id": "64e64197",
   "metadata": {},
   "outputs": [],
   "source": [
    "from sklearn import datasets\n",
    "from sklearn.model_selection import train_test_split\n",
    "\n",
    "breast_cancer = datasets.load_breast_cancer()\n",
    "X = breast_cancer.data\n",
    "y = breast_cancer.target\n",
    "X_train, X_valid, y_train, y_valid = train_test_split(X, y, test_size=0.2, random_state=42)\n",
    "X_mean = np.mean(X_train)\n",
    "X_std = np.std(X_train)\n",
    "X_valid = (X_valid - X_mean) / X_std\n",
    "X_train = (X_train - X_mean) / X_std"
   ]
  },
  {
   "cell_type": "code",
   "execution_count": 11,
   "id": "44e44475",
   "metadata": {},
   "outputs": [],
   "source": [
    "def sigmoid(z):\n",
    "    s = 1 / (1 + np.exp(-z))\n",
    "    return s\n",
    "\n",
    "\n",
    "def layers(X, Y):\n",
    "    n_x = X.shape[0]\n",
    "    n_y = Y.shape[0]\n",
    "    return n_x, n_y\n",
    "\n",
    "\n",
    "def initialize(n_x, n_h, n_y):\n",
    "    np.random.seed(2)\n",
    "    W1 = np.random.randn(n_h, n_x) * 0.01\n",
    "    b1 = np.random.rand(n_h, 1)\n",
    "    W2 = np.random.rand(n_y, n_h)\n",
    "    b2 = np.random.rand(n_y, 1)\n",
    "    parameters = {\"W1\": W1,\n",
    "                  \"b1\": b1,\n",
    "                  \"W2\": W2,\n",
    "                  \"b2\": b2}\n",
    "    return parameters\n",
    "\n",
    "\n",
    "def forward_prop(X, parameters):\n",
    "    W1 = parameters['W1']\n",
    "    b1 = parameters['b1']\n",
    "    W2 = parameters['W2']\n",
    "    b2 = parameters['b2']\n",
    "    Z1 = np.dot(W1, X) + b1\n",
    "    A1 = np.tanh(Z1)\n",
    "    Z2 = np.dot(W2, A1) + b2\n",
    "    A2 = sigmoid(Z2)\n",
    "    cache = {\"Z1\": Z1,\n",
    "             \"A1\": A1,\n",
    "             \"Z2\": Z2,\n",
    "             \"A2\": A2}\n",
    "    return A2, cache\n",
    "\n",
    "\n",
    "def compute_cost(A2, Y, parameters):\n",
    "    m = Y.shape[1]\n",
    "    W1 = parameters['W1']\n",
    "    W2 = parameters['W2']\n",
    "    logprobs = np.multiply(np.log(A2), Y) + np.multiply(np.log(1 - A2), (1 - Y))\n",
    "    cost = - np.sum(logprobs) / m\n",
    "    cost = np.squeeze(cost)\n",
    "    return cost\n",
    "\n",
    "\n",
    "def back_prop(parameters, cache, X, Y):\n",
    "    m = Y.shape[1]\n",
    "    W1 = parameters['W1']\n",
    "    W2 = parameters['W2']\n",
    "    A1 = cache['A1']\n",
    "    A2 = cache['A2']\n",
    "    dZ2 = A2 - Y\n",
    "    dW2 = (1 / m) * np.dot(dZ2, A1.T)\n",
    "    db2 = (1 / m) * np.sum(dZ2, axis=1, keepdims=True)\n",
    "    dZ1 = np.multiply(np.dot(W2.T, dZ2), 1 - np.square(A1))\n",
    "    dW1 = (1 / m) * np.dot(dZ1, X.T)\n",
    "    db1 = (1 / m) * np.sum(dZ1, axis=1, keepdims=True)\n",
    "    grads = {\"dW1\": dW1,\n",
    "             \"db1\": db1,\n",
    "             \"dW2\": dW2,\n",
    "             \"db2\": db2}\n",
    "    return grads\n",
    "\n",
    "\n",
    "def update_params(parameters, grads, alpha):\n",
    "    W1 = parameters['W1']\n",
    "    b1 = parameters['b1']\n",
    "    W2 = parameters['W2']\n",
    "    b2 = parameters['b2']\n",
    "    dW1 = grads['dW1']\n",
    "    db1 = grads['db1']\n",
    "    dW2 = grads['dW2']\n",
    "    db2 = grads['db2']\n",
    "    W1 = W1 - alpha * dW1\n",
    "    b1 = b1 - alpha * db1\n",
    "    W2 = W2 - alpha * dW2\n",
    "    b2 = b2 - alpha * db2\n",
    "    parameters = {\"W1\": W1,\n",
    "                  \"b1\": b1,\n",
    "                  \"W2\": W2,\n",
    "                  \"b2\": b2}\n",
    "    return parameters\n",
    "\n",
    "\n",
    "def model(X, Y, X_valid, y_valid, n_h, num_iters, alpha):\n",
    "    np.random.seed(3)\n",
    "    n_x = layers(X, Y)[0]\n",
    "    n_y = layers(X, Y)[1]\n",
    "    parameters = initialize(n_x, n_h, n_y)\n",
    "    W1 = parameters['W1']\n",
    "    b1 = parameters['b1']\n",
    "    W2 = parameters['W2']\n",
    "    b2 = parameters['b2']\n",
    "    costs = []\n",
    "    for i in range(0, num_iters):\n",
    "        A2, cache = forward_prop(X, parameters)\n",
    "        cost = compute_cost(A2, Y, parameters)\n",
    "        grads = back_prop(parameters, cache, X, Y)\n",
    "        if (i > 20000):\n",
    "            alpha1 = (20000 / i) * alpha\n",
    "            parameters = update_params(parameters, grads, alpha1)\n",
    "        else:\n",
    "            parameters = update_params(parameters, grads, alpha)\n",
    "\n",
    "    predictions = predict(parameters, X)\n",
    "    truePositive = 0\n",
    "    trueNegative = 0\n",
    "    falseNegative = 0\n",
    "    falsePositive = 0\n",
    "    predList = predictions.tolist()\n",
    "    tlist = Y.tolist()\n",
    "    array_length = len(predList[0])\n",
    "    for i in range(array_length):\n",
    "        if predList[0][i] == 1 and tlist[0][i] == 1:\n",
    "            truePositive += 1\n",
    "        elif predList[0][i] == 0 and tlist[0][i] == 0:\n",
    "            trueNegative += 1\n",
    "        elif predList[0][i] == 0 and tlist[0][i] == 1:\n",
    "            falseNegative += 1\n",
    "        elif predList[0][i] == 1 and tlist[0][i] == 0:\n",
    "            falsePositive += 1\n",
    "        else:\n",
    "            print(predList[0][i])\n",
    "            print(tlist[0][i])\n",
    "            print(\"WTF\")\n",
    "    tpr = truePositive / (truePositive + falseNegative) * 100\n",
    "    fpr = falsePositive / (falsePositive + trueNegative) * 100\n",
    "    precision = truePositive / (truePositive + falsePositive) * 100\n",
    "    print(\"True Positive Rate / Recall: %.2f\" % tpr + str('%'))\n",
    "    print(\"Precision: %.2f\" % precision + str('%'))\n",
    "    print(\"False Positive Rate / Fallout: %.2f\" % fpr + str('%'))\n",
    "    return parameters\n",
    "\n",
    "\n",
    "def predict(parameters, X):\n",
    "    A2, cache = forward_prop(X, parameters)\n",
    "    predictions = np.round(A2)\n",
    "    return predictions"
   ]
  },
  {
   "cell_type": "code",
   "execution_count": 12,
   "id": "eb605aad",
   "metadata": {
    "scrolled": true
   },
   "outputs": [
    {
     "name": "stdout",
     "output_type": "stream",
     "text": [
      "True Positive Rate / Recall: 81.66%\n",
      "Precision: 94.52%\n",
      "False Positive Rate / Fallout: 2.80%\n"
     ]
    }
   ],
   "source": [
    "y_train = one_hot_vector(y_train)\n",
    "y_valid = one_hot_vector(y_valid)\n",
    "d = model(X_train.T, y_train.T, X_valid.T, y_valid.T, n_h=20, num_iters=50000, alpha=0.0002)"
   ]
  },
  {
   "cell_type": "code",
   "execution_count": null,
   "id": "a6a5961f",
   "metadata": {},
   "outputs": [],
   "source": []
  }
 ],
 "metadata": {
  "kernelspec": {
   "display_name": "Python 3",
   "language": "python",
   "name": "python3"
  },
  "language_info": {
   "codemirror_mode": {
    "name": "ipython",
    "version": 3
   },
   "file_extension": ".py",
   "mimetype": "text/x-python",
   "name": "python",
   "nbconvert_exporter": "python",
   "pygments_lexer": "ipython3",
   "version": "3.8.8"
  }
 },
 "nbformat": 4,
 "nbformat_minor": 5
}
