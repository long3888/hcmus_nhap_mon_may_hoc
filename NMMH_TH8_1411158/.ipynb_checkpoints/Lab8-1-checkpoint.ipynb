{
 "cells": [
  {
   "cell_type": "code",
   "execution_count": 1,
   "metadata": {
    "id": "3DAUMOqug9Ec"
   },
   "outputs": [],
   "source": [
    "import numpy as np\n",
    "import pandas as pd\n"
   ]
  },
  {
   "cell_type": "code",
   "execution_count": 2,
   "metadata": {
    "id": "1jK0RCcQhBBI"
   },
   "outputs": [],
   "source": [
    "def one_hot_vector(y):\n",
    "    out = np.zeros((y.shape[0], max(y)+1))\n",
    "    for i in range(y.shape[0]):\n",
    "        out[i, y[i]] = 1\n",
    "    return out"
   ]
  },
  {
   "cell_type": "code",
   "execution_count": 3,
   "metadata": {
    "id": "y4OKWiJ7hHwB"
   },
   "outputs": [],
   "source": [
    "train = pd.read_csv(\"bt_train.csv\")\n",
    "valid = pd.read_csv(\"bt_valid.csv\")\n",
    "\n",
    "x1_train = train[\"x1\"].values\n",
    "x2_train = train[\"x2\"].values\n",
    "y_train = train[\"label\"].values\n",
    "\n",
    "x1_valid = valid['x1'].values\n",
    "x2_valid = valid['x2'].values\n",
    "y_valid = valid['label'].values\n",
    "\n",
    "# normalize\n",
    "x1_mean = np.mean(x1_train)\n",
    "x1_std = np.std(x1_train)\n",
    "x2_mean = np.mean(x2_train)\n",
    "x2_std = np.std(x2_train)\n",
    "\n",
    "x1_train = (x1_train - x1_mean)/ x1_std\n",
    "x2_train = (x2_train - x2_mean)/ x2_std\n",
    "\n",
    "x1_valid = (x1_valid - x1_mean)/ x1_std\n",
    "x2_valid = (x2_valid - x2_mean)/ x2_std\n",
    "\n",
    "\n",
    "\n",
    "X_train = np.concatenate([x1_train.reshape(-1,1), x2_train.reshape(-1,1)], axis=1)\n",
    "y_train = one_hot_vector(y_train)\n",
    "\n",
    "X_valid = np.concatenate([x1_valid.reshape(-1,1), x2_valid.reshape(-1,1)], axis=1)"
   ]
  },
  {
   "cell_type": "code",
   "execution_count": 4,
   "metadata": {
    "id": "f2abdMy1hJVq"
   },
   "outputs": [],
   "source": [
    "# initialize\n",
    "W1 = np.random.randn(2,5)\n",
    "W2 = np.random.randn(5,5)\n",
    "W3 = np.random.randn(5,3)\n",
    "W4 = np.random.randn(3,3)\n",
    "\n",
    "b1 = np.random.randn(1,5)\n",
    "b2 = np.random.randn(1,5)\n",
    "b3 = np.random.randn(1,3)\n",
    "b4 = np.random.randn(1,3)"
   ]
  },
  {
   "cell_type": "code",
   "execution_count": 5,
   "metadata": {
    "id": "nSxJW-OBhKoE"
   },
   "outputs": [],
   "source": [
    "\n",
    "def relu(h):\n",
    "    return np.array([max(0,i) for i in h.reshape(-1)]).reshape(h.shape)\n",
    "\n",
    "def softmax(z):\n",
    "    return np.exp(z)/ np.sum(np.exp(z), axis=1).reshape(-1,1)\n",
    "\n",
    "def CrossEntropy(o,y):\n",
    "    return - np.sum(np.log(o)*y)\n",
    "\n",
    "ln = 0.001\n",
    "N = y_train.shape[0]"
   ]
  },
  {
   "cell_type": "code",
   "execution_count": 6,
   "metadata": {
    "colab": {
     "base_uri": "https://localhost:8080/",
     "height": 240
    },
    "id": "I1nBp_krhO-b",
    "outputId": "3202d8d8-3d95-4369-b427-6a427facdb03"
   },
   "outputs": [
    {
     "ename": "NameError",
     "evalue": "name 'y' is not defined",
     "output_type": "error",
     "traceback": [
      "\u001b[1;31m---------------------------------------------------------------------------\u001b[0m",
      "\u001b[1;31mNameError\u001b[0m                                 Traceback (most recent call last)",
      "\u001b[1;32m<ipython-input-6-1a3bce4fdca5>\u001b[0m in \u001b[0;36m<module>\u001b[1;34m\u001b[0m\n\u001b[0;32m     12\u001b[0m     \u001b[0mz4\u001b[0m\u001b[1;33m=\u001b[0m \u001b[0mnp\u001b[0m\u001b[1;33m.\u001b[0m\u001b[0mdot\u001b[0m\u001b[1;33m(\u001b[0m\u001b[0mo3\u001b[0m\u001b[1;33m,\u001b[0m \u001b[0mW4\u001b[0m\u001b[1;33m)\u001b[0m \u001b[1;33m+\u001b[0m \u001b[0mb4\u001b[0m\u001b[1;33m\u001b[0m\u001b[1;33m\u001b[0m\u001b[0m\n\u001b[0;32m     13\u001b[0m \u001b[1;33m\u001b[0m\u001b[0m\n\u001b[1;32m---> 14\u001b[1;33m     \u001b[0mo4\u001b[0m \u001b[1;33m=\u001b[0m \u001b[0mCrossEntropy\u001b[0m\u001b[1;33m(\u001b[0m\u001b[0mo3\u001b[0m\u001b[1;33m,\u001b[0m\u001b[0my\u001b[0m\u001b[1;33m)\u001b[0m\u001b[1;33m\u001b[0m\u001b[1;33m\u001b[0m\u001b[0m\n\u001b[0m\u001b[0;32m     15\u001b[0m \u001b[1;33m\u001b[0m\u001b[0m\n\u001b[0;32m     16\u001b[0m     \u001b[1;31m# backpropagation\u001b[0m\u001b[1;33m\u001b[0m\u001b[1;33m\u001b[0m\u001b[1;33m\u001b[0m\u001b[0m\n",
      "\u001b[1;31mNameError\u001b[0m: name 'y' is not defined"
     ]
    }
   ],
   "source": [
    "for epochs in range(100000):\n",
    "    # foward\n",
    "    z1 = np.dot(X_train, W1) + b1\n",
    "    o1 = relu(z1)\n",
    "\n",
    "    z2 = np.dot(o1, W2) + b2\n",
    "    o2 = relu(z2)\n",
    "\n",
    "    z3 = np.dot(o2, W3) + b3\n",
    "    o3 = softmax(z3)\n",
    "    \n",
    "    z4= np.dot(o3, W4) + b4\n",
    "    \n",
    "    o4 = CrossEntropy(o3,y)\n",
    "\n",
    "    # backpropagation\n",
    "    dL_dz4 = 1/len(X_train)*(o4 - y_train) \n",
    "    dL_dW4 = np.dot(o3.T, dL_dz4)    \n",
    "    dL_db4 = np.sum(dL_dz4, axis = 0)\n",
    "\n",
    "    dL_do3 = np.dot(dL_dz4, W4.T)\n",
    "    dL_dz3 = dL_do3.copy()\n",
    "    dL_dz3[z3 < 0] = 0\n",
    "    dL_dW3 = np.dot(o2.T,dL_dz3)\n",
    "    dL_db3 = np.sum(dL_dz3, axis = 0)\n",
    "\n",
    "\n",
    "    dL_do2 = np.dot(dL_dz3, W3.T)\n",
    "    dL_dz2 = dL_do2.copy()\n",
    "    dL_dz2[z2 < 0] = 0\n",
    "    dL_dW2 = np.dot(o1.T,dL_dz2)\n",
    "    dL_db2 = np.sum(dL_dz2, axis = 0)\n",
    "\n",
    "    dL_do1 = np.dot(dL_dz2, W2.T)\n",
    "    dL_dz1 = dL_do1.copy()\n",
    "    dL_dz1[z1 < 0] = 0\n",
    "    dL_dW1 = np.dot(X_train.T, dL_dz1)\n",
    "    dL_db1 = np.sum(dL_dz1, axis = 0)\n",
    "    \n",
    "    W4 -= ln* dL_dW4\n",
    "    b4 -= ln* dL_db4\n",
    "    W3 -= ln* dL_dW3\n",
    "    b3 -= ln* dL_db3\n",
    "    W2 -= ln* dL_dW2\n",
    "    b2 -= ln* dL_db2\n",
    "    W1 -= ln* dL_dW1\n",
    "    b1 -= ln* dL_db1"
   ]
  },
  {
   "cell_type": "code",
   "execution_count": 33,
   "metadata": {
    "id": "S0pLACoehQ8K"
   },
   "outputs": [],
   "source": [
    "\n",
    "z1_valid = np.dot(X_valid, W1) + b1\n",
    "o1_valid = relu(z1_valid)\n",
    "\n",
    "z2_valid = np.dot(o1_valid, W2) + b2\n",
    "o2_valid = relu(z2_valid)\n",
    "\n",
    "z3_valid = np.dot(o2_valid, W3) + b3\n",
    "o3_valid = softmax(z3_valid)\n",
    "\n",
    "z4_valid = np.dot(o3_valid, W4) + b4\n",
    "o4_valid = softmax(z4_valid)"
   ]
  },
  {
   "cell_type": "code",
   "execution_count": 32,
   "metadata": {
    "colab": {
     "base_uri": "https://localhost:8080/"
    },
    "id": "zY-hTVl8hSMr",
    "outputId": "47de462c-ed88-470f-b5a0-4f3d00911873"
   },
   "outputs": [
    {
     "data": {
      "text/plain": [
       "0.3333333333333333"
      ]
     },
     "execution_count": 32,
     "metadata": {
      "tags": []
     },
     "output_type": "execute_result"
    }
   ],
   "source": [
    "np.sum(np.argmax(o4_valid, axis = 1) == y_valid)/ y_valid.shape[0]\n"
   ]
  }
 ],
 "metadata": {
  "accelerator": "GPU",
  "colab": {
   "collapsed_sections": [],
   "name": "Lab8",
   "provenance": []
  },
  "kernelspec": {
   "display_name": "Python 3",
   "language": "python",
   "name": "python3"
  },
  "language_info": {
   "codemirror_mode": {
    "name": "ipython",
    "version": 3
   },
   "file_extension": ".py",
   "mimetype": "text/x-python",
   "name": "python",
   "nbconvert_exporter": "python",
   "pygments_lexer": "ipython3",
   "version": "3.8.8"
  }
 },
 "nbformat": 4,
 "nbformat_minor": 1
}
