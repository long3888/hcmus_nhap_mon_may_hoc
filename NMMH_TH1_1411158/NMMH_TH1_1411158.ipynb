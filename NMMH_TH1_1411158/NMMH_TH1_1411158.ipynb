{
 "cells": [
  {
   "cell_type": "markdown",
   "id": "87582ca0",
   "metadata": {},
   "source": [
    "# Bài tập\n",
    "1. Hãy dùng bộ dữ liệu dibetes để thiết lập mô hình Linear Regresion.\n",
    "2. Hãy tìm target values của diabetes_X_test rồi so sánh với target values trong diabetes_y_test.\n",
    "3. Tìm hiểu sklearn và làm lại yêu cầu câu 2 (câu cộng điểm)."
   ]
  },
  {
   "cell_type": "code",
   "execution_count": 1,
   "id": "4081bb69",
   "metadata": {},
   "outputs": [],
   "source": [
    "# Import a library\n",
    "import numpy as np"
   ]
  },
  {
   "cell_type": "markdown",
   "id": "46a50afa",
   "metadata": {},
   "source": [
    "## Câu 1"
   ]
  },
  {
   "cell_type": "code",
   "execution_count": 2,
   "id": "3e5ea267",
   "metadata": {},
   "outputs": [],
   "source": [
    "from sklearn import datasets\n",
    "\n",
    "# Load the diabetes dataset\n",
    "diabetes_X, diabetes_y = datasets.load_diabetes(return_X_y=True)"
   ]
  },
  {
   "cell_type": "code",
   "execution_count": 3,
   "id": "52c5a611",
   "metadata": {},
   "outputs": [],
   "source": [
    "# Split the data/targets into training/testing sets\n",
    "diabetes_X_train, diabetes_y_train = diabetes_X[:-2], diabetes_y[:-2].reshape(1, -1).T\n",
    "diabetes_X_test, diabetes_y_test = diabetes_X[-2:], diabetes_y[-2:].reshape(1, -1).T"
   ]
  },
  {
   "cell_type": "code",
   "execution_count": 4,
   "id": "a1c4816c",
   "metadata": {},
   "outputs": [],
   "source": [
    "# Create vector 1\n",
    "ones = np.ones((diabetes_X_train.shape[0], 1), dtype=np.int8)\n",
    "# Combine 1 and X\n",
    "Xbar = np.concatenate((diabetes_X_train, ones), axis=1)\n",
    "# Use fomular\n",
    "w = np.linalg.inv(Xbar.T.dot(Xbar)).dot(Xbar.T).dot(diabetes_y_train)"
   ]
  },
  {
   "cell_type": "markdown",
   "id": "a1219ee2",
   "metadata": {},
   "source": [
    "## Câu 2"
   ]
  },
  {
   "cell_type": "code",
   "execution_count": 5,
   "id": "ad27bd43",
   "metadata": {},
   "outputs": [
    {
     "name": "stdout",
     "output_type": "stream",
     "text": [
      "Targets in X_test:\n",
      "[[211.74929866]\n",
      " [ 53.19292183]]\n",
      "Targets in y_test:\n",
      "[[220.]\n",
      " [ 57.]]\n"
     ]
    }
   ],
   "source": [
    "# Find targets in diabetes_X_test\n",
    "targets_X_test = []\n",
    "for x in diabetes_X_test:\n",
    "    targets_X_test.append(np.append(x, 1).dot(w))\n",
    "targets_X_test = np.array(targets_X_test)\n",
    "# Compare targets in X_test and y_test\n",
    "print('Targets in X_test:')\n",
    "print(targets_X_test)\n",
    "print('Targets in y_test:')\n",
    "print(diabetes_y_test)"
   ]
  },
  {
   "cell_type": "markdown",
   "id": "0d14fc3c",
   "metadata": {},
   "source": [
    "## Câu 3"
   ]
  },
  {
   "cell_type": "code",
   "execution_count": 6,
   "id": "114a27f4",
   "metadata": {
    "scrolled": true
   },
   "outputs": [
    {
     "name": "stdout",
     "output_type": "stream",
     "text": [
      "Targets in X_test:\n",
      "[[211.74929866]\n",
      " [ 53.19292183]]\n",
      "Targets in y_test:\n",
      "[[220.]\n",
      " [ 57.]]\n"
     ]
    }
   ],
   "source": [
    "from sklearn.linear_model import LinearRegression\n",
    "\n",
    "lr = LinearRegression()\n",
    "lr.fit(diabetes_X_train, diabetes_y_train)\n",
    "# Find w\n",
    "w = np.array([np.append(lr.coef_, lr.intercept_)]).T\n",
    "# Find targets in diabetes_X_test\n",
    "targets_X_test = []\n",
    "for x in diabetes_X_test:\n",
    "    targets_X_test.append(np.append(x, 1).dot(w))\n",
    "targets_X_test = np.array(targets_X_test)\n",
    "# Compare targets in X_test and y_test\n",
    "print('Targets in X_test:')\n",
    "print(targets_X_test)\n",
    "print('Targets in y_test:')\n",
    "print(diabetes_y_test)"
   ]
  },
  {
   "cell_type": "code",
   "execution_count": null,
   "id": "4784d440",
   "metadata": {},
   "outputs": [],
   "source": []
  }
 ],
 "metadata": {
  "kernelspec": {
   "display_name": "Python 3",
   "language": "python",
   "name": "python3"
  },
  "language_info": {
   "codemirror_mode": {
    "name": "ipython",
    "version": 3
   },
   "file_extension": ".py",
   "mimetype": "text/x-python",
   "name": "python",
   "nbconvert_exporter": "python",
   "pygments_lexer": "ipython3",
   "version": "3.8.8"
  }
 },
 "nbformat": 4,
 "nbformat_minor": 5
}
